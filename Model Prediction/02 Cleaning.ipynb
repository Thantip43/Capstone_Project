{
 "cells": [
  {
   "cell_type": "markdown",
   "id": "7cb918ca-b77a-4b20-b15b-6515c9811113",
   "metadata": {},
   "source": [
    "## Importing Library"
   ]
  },
  {
   "cell_type": "code",
   "execution_count": 122,
   "id": "9ecae210-7365-4778-bca6-7c7d7317ff77",
   "metadata": {},
   "outputs": [],
   "source": [
    "import pandas as pd\n",
    "import numpy as np"
   ]
  },
  {
   "cell_type": "markdown",
   "id": "468b220a-5635-4101-8567-6c7fc6eb26b5",
   "metadata": {},
   "source": [
    "## Import files "
   ]
  },
  {
   "cell_type": "code",
   "execution_count": 59,
   "id": "b5dc78ed-7787-4f23-b25d-271856bc44d9",
   "metadata": {},
   "outputs": [],
   "source": [
    "# read the file (1-hr based)\n",
    "gold_df = pd.read_csv('./gold_price_hourly.csv')\n",
    "SP_df = pd.read_csv('./S&P_500_hourly.csv')\n",
    "DJI_df = pd.read_csv('./Dow_Jones_hourly.csv')\n",
    "EUR_df =  pd.read_csv('./USD_EUR_hourly.csv')\n",
    "INR_df = pd.read_csv('./USD_INR_hourly.csv')\n",
    "CNY_df = pd.read_csv('./USD_CNY_hourly.csv')\n",
    "JPY_df = pd.read_csv('./USD_JPY_hourly.csv')\n",
    "GBP_df = pd.read_csv('./USD_GBP_hourly.csv')\n",
    "crude_oil_df = pd.read_csv('./Crude_oil_hourly.csv')"
   ]
  },
  {
   "cell_type": "code",
   "execution_count": 134,
   "id": "ca148985-407b-4d0c-a186-4cfeb6e8fcb7",
   "metadata": {},
   "outputs": [
    {
     "data": {
      "text/plain": [
       "((11525, 2),\n",
       " (3506, 7),\n",
       " (3506, 7),\n",
       " (12417, 7),\n",
       " (10497, 7),\n",
       " (9588, 7),\n",
       " (12345, 7),\n",
       " (12417, 7),\n",
       " (11259, 7))"
      ]
     },
     "execution_count": 134,
     "metadata": {},
     "output_type": "execute_result"
    }
   ],
   "source": [
    "gold_df.shape, SP_df.shape, DJI_df.shape, EUR_df.shape, INR_df.shape, CNY_df.shape, JPY_df.shape, GBP_df.shape, crude_oil_df.shape"
   ]
  },
  {
   "cell_type": "code",
   "execution_count": 96,
   "id": "7d0b2a2d-4277-45c6-aefb-35bce5dd13c8",
   "metadata": {},
   "outputs": [],
   "source": [
    "# Merge the dataframe with only 'close' column, merge on the 'Datetime'\n",
    "name_for_column  = {'gold price' : gold_df, \n",
    "                    'S&P500': SP_df,\n",
    "                    'DowJones': DJI_df,\n",
    "                    'eur': EUR_df,\n",
    "                    'inr': INR_df,\n",
    "                    'cny': CNY_df,\n",
    "                    'jpy': JPY_df,\n",
    "                    'gbp': GBP_df,\n",
    "                    'oil price': crude_oil_df\n",
    "                   }\n",
    "\n",
    "# Creat an empty dataframe\n",
    "merged_df = None\n",
    "\n",
    "for name, df in name_for_column.items():\n",
    "    # Select only columns 'Datetime' and 'Close'\n",
    "    n_df = df[['Datetime', 'Close']]\n",
    "\n",
    "    # Rename the column\n",
    "    n_df = n_df.rename(columns={'Close':name})\n",
    "\n",
    "    # Merging dataframe\n",
    "    if merged_df is None:\n",
    "        # If it's the first dataframe\n",
    "        merged_df = n_df\n",
    "    else:\n",
    "        # Merge with the existing merged dataframe (by keeping the common datetime)\n",
    "        merged_df = pd.merge(merged_df, n_df, on='Datetime', how='inner')\n",
    "\n"
   ]
  },
  {
   "cell_type": "code",
   "execution_count": 104,
   "id": "998d0775-7652-4b83-951c-a85c38516688",
   "metadata": {},
   "outputs": [
    {
     "data": {
      "text/html": [
       "<div>\n",
       "<style scoped>\n",
       "    .dataframe tbody tr th:only-of-type {\n",
       "        vertical-align: middle;\n",
       "    }\n",
       "\n",
       "    .dataframe tbody tr th {\n",
       "        vertical-align: top;\n",
       "    }\n",
       "\n",
       "    .dataframe thead th {\n",
       "        text-align: right;\n",
       "    }\n",
       "</style>\n",
       "<table border=\"1\" class=\"dataframe\">\n",
       "  <thead>\n",
       "    <tr style=\"text-align: right;\">\n",
       "      <th></th>\n",
       "      <th>Datetime</th>\n",
       "      <th>gold price</th>\n",
       "      <th>S&amp;P500</th>\n",
       "      <th>DowJones</th>\n",
       "      <th>eur</th>\n",
       "      <th>inr</th>\n",
       "      <th>cny</th>\n",
       "      <th>jpy</th>\n",
       "      <th>gbp</th>\n",
       "      <th>oil price</th>\n",
       "    </tr>\n",
       "  </thead>\n",
       "  <tbody>\n",
       "    <tr>\n",
       "      <th>0</th>\n",
       "      <td>NaN</td>\n",
       "      <td>GC=F</td>\n",
       "      <td>^GSPC</td>\n",
       "      <td>^DJI</td>\n",
       "      <td>EUR=X</td>\n",
       "      <td>INR=X</td>\n",
       "      <td>CNY=X</td>\n",
       "      <td>JPY=X</td>\n",
       "      <td>GBP=X</td>\n",
       "      <td>CL=F</td>\n",
       "    </tr>\n",
       "    <tr>\n",
       "      <th>1</th>\n",
       "      <td>2022-12-06 14:00:00+00:00</td>\n",
       "      <td>1786.5999755859375</td>\n",
       "      <td>3961.0</td>\n",
       "      <td>33765.48828125</td>\n",
       "      <td>0.9521999955177307</td>\n",
       "      <td>82.4000015258789</td>\n",
       "      <td>6.985000133514404</td>\n",
       "      <td>136.52499389648438</td>\n",
       "      <td>0.8206999897956848</td>\n",
       "      <td>76.66999816894531</td>\n",
       "    </tr>\n",
       "  </tbody>\n",
       "</table>\n",
       "</div>"
      ],
      "text/plain": [
       "                    Datetime          gold price  S&P500        DowJones  \\\n",
       "0                        NaN                GC=F   ^GSPC            ^DJI   \n",
       "1  2022-12-06 14:00:00+00:00  1786.5999755859375  3961.0  33765.48828125   \n",
       "\n",
       "                  eur               inr                cny  \\\n",
       "0               EUR=X             INR=X              CNY=X   \n",
       "1  0.9521999955177307  82.4000015258789  6.985000133514404   \n",
       "\n",
       "                  jpy                 gbp          oil price  \n",
       "0               JPY=X               GBP=X               CL=F  \n",
       "1  136.52499389648438  0.8206999897956848  76.66999816894531  "
      ]
     },
     "execution_count": 104,
     "metadata": {},
     "output_type": "execute_result"
    }
   ],
   "source": [
    "merged_df.head(2)"
   ]
  },
  {
   "cell_type": "code",
   "execution_count": 102,
   "id": "a873e110-db3a-4c07-938a-09c932155dd2",
   "metadata": {},
   "outputs": [
    {
     "data": {
      "text/plain": [
       "Datetime      1\n",
       "gold price    0\n",
       "S&P500        0\n",
       "DowJones      0\n",
       "eur           0\n",
       "inr           0\n",
       "cny           0\n",
       "jpy           0\n",
       "gbp           0\n",
       "oil price     0\n",
       "dtype: int64"
      ]
     },
     "execution_count": 102,
     "metadata": {},
     "output_type": "execute_result"
    }
   ],
   "source": [
    "merged_df.isnull().sum()"
   ]
  },
  {
   "cell_type": "code",
   "execution_count": 110,
   "id": "b2a1a41a-7f74-4f1f-a385-5cde3a42c83b",
   "metadata": {},
   "outputs": [],
   "source": [
    "# Drop nan values, as that row is not going to be used \n",
    "merged_df.dropna(inplace=True)"
   ]
  },
  {
   "cell_type": "code",
   "execution_count": 124,
   "id": "76ef3163-74f3-425e-bc83-f6449f6c79b2",
   "metadata": {},
   "outputs": [],
   "source": [
    "# Converting the data object into float64 for further calculation\n",
    "columns_to_convert = ['gold price', 'S&P500', 'DowJones', 'eur', 'inr', 'cny', 'jpy', 'gbp', 'oil price']\n",
    "merged_df[columns_to_convert] = merged_df[columns_to_convert].astype(np.float64)"
   ]
  },
  {
   "cell_type": "code",
   "execution_count": 136,
   "id": "6e2debda-4c50-4074-b0bc-2f2591a6a0fc",
   "metadata": {},
   "outputs": [],
   "source": [
    "# Converting the datetime into datetime \n",
    "merged_df['Datetime'] = pd.to_datetime(merged_df['Datetime'])"
   ]
  },
  {
   "cell_type": "code",
   "execution_count": 140,
   "id": "8f7cc15b-bf99-4618-a017-f43721faeaa4",
   "metadata": {},
   "outputs": [],
   "source": [
    "# Saving the dataframe\n",
    "merged_df.to_csv('quanti_df.csv', index=False)"
   ]
  }
 ],
 "metadata": {
  "kernelspec": {
   "display_name": "Python 3 (ipykernel)",
   "language": "python",
   "name": "python3"
  },
  "language_info": {
   "codemirror_mode": {
    "name": "ipython",
    "version": 3
   },
   "file_extension": ".py",
   "mimetype": "text/x-python",
   "name": "python",
   "nbconvert_exporter": "python",
   "pygments_lexer": "ipython3",
   "version": "3.12.4"
  }
 },
 "nbformat": 4,
 "nbformat_minor": 5
}
