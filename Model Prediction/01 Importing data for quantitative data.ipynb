{
 "cells": [
  {
   "cell_type": "code",
   "execution_count": 90,
   "id": "48133f51-292a-4a8b-b07f-9e394797a91d",
   "metadata": {},
   "outputs": [
    {
     "name": "stdout",
     "output_type": "stream",
     "text": [
      "Downloading data for Gold_Price (GC=F)...\n"
     ]
    },
    {
     "name": "stderr",
     "output_type": "stream",
     "text": [
      "[*********************100%***********************]  1 of 1 completed\n",
      "/var/folders/7x/s9nb0bqj3xj0g6l2sm78vqcm0000gn/T/ipykernel_68068/1502185924.py:30: FutureWarning: 'H' is deprecated and will be removed in a future version, please use 'h' instead.\n",
      "  data_reset['Datetime'] = pd.to_datetime(data_reset['Datetime']).dt.round('H')\n",
      "[*********************100%***********************]  1 of 1 completed"
     ]
    },
    {
     "name": "stdout",
     "output_type": "stream",
     "text": [
      "Data for Gold_Price saved to Gold_Price_hourly.csv\n",
      "Downloading data for S&P_500 (^GSPC)...\n"
     ]
    },
    {
     "name": "stderr",
     "output_type": "stream",
     "text": [
      "\n",
      "/var/folders/7x/s9nb0bqj3xj0g6l2sm78vqcm0000gn/T/ipykernel_68068/1502185924.py:30: FutureWarning: 'H' is deprecated and will be removed in a future version, please use 'h' instead.\n",
      "  data_reset['Datetime'] = pd.to_datetime(data_reset['Datetime']).dt.round('H')\n",
      "[*********************100%***********************]  1 of 1 completed\n"
     ]
    },
    {
     "name": "stdout",
     "output_type": "stream",
     "text": [
      "Data for S&P_500 saved to S&P_500_hourly.csv\n",
      "Downloading data for Dow_Jones (^DJI)...\n"
     ]
    },
    {
     "name": "stderr",
     "output_type": "stream",
     "text": [
      "/var/folders/7x/s9nb0bqj3xj0g6l2sm78vqcm0000gn/T/ipykernel_68068/1502185924.py:30: FutureWarning: 'H' is deprecated and will be removed in a future version, please use 'h' instead.\n",
      "  data_reset['Datetime'] = pd.to_datetime(data_reset['Datetime']).dt.round('H')\n"
     ]
    },
    {
     "name": "stdout",
     "output_type": "stream",
     "text": [
      "Data for Dow_Jones saved to Dow_Jones_hourly.csv\n",
      "Downloading data for USD_EUR (EUR=X)...\n"
     ]
    },
    {
     "name": "stderr",
     "output_type": "stream",
     "text": [
      "[*********************100%***********************]  1 of 1 completed\n",
      "/var/folders/7x/s9nb0bqj3xj0g6l2sm78vqcm0000gn/T/ipykernel_68068/1502185924.py:30: FutureWarning: 'H' is deprecated and will be removed in a future version, please use 'h' instead.\n",
      "  data_reset['Datetime'] = pd.to_datetime(data_reset['Datetime']).dt.round('H')\n"
     ]
    },
    {
     "name": "stdout",
     "output_type": "stream",
     "text": [
      "Data for USD_EUR saved to USD_EUR_hourly.csv\n",
      "Downloading data for USD_INR (INR=X)...\n"
     ]
    },
    {
     "name": "stderr",
     "output_type": "stream",
     "text": [
      "[*********************100%***********************]  1 of 1 completed\n",
      "/var/folders/7x/s9nb0bqj3xj0g6l2sm78vqcm0000gn/T/ipykernel_68068/1502185924.py:30: FutureWarning: 'H' is deprecated and will be removed in a future version, please use 'h' instead.\n",
      "  data_reset['Datetime'] = pd.to_datetime(data_reset['Datetime']).dt.round('H')\n"
     ]
    },
    {
     "name": "stdout",
     "output_type": "stream",
     "text": [
      "Data for USD_INR saved to USD_INR_hourly.csv\n",
      "Downloading data for USD_CNY (CNY=X)...\n"
     ]
    },
    {
     "name": "stderr",
     "output_type": "stream",
     "text": [
      "[*********************100%***********************]  1 of 1 completed\n",
      "/var/folders/7x/s9nb0bqj3xj0g6l2sm78vqcm0000gn/T/ipykernel_68068/1502185924.py:30: FutureWarning: 'H' is deprecated and will be removed in a future version, please use 'h' instead.\n",
      "  data_reset['Datetime'] = pd.to_datetime(data_reset['Datetime']).dt.round('H')\n"
     ]
    },
    {
     "name": "stdout",
     "output_type": "stream",
     "text": [
      "Data for USD_CNY saved to USD_CNY_hourly.csv\n",
      "Downloading data for USD_JPY (JPY=X)...\n"
     ]
    },
    {
     "name": "stderr",
     "output_type": "stream",
     "text": [
      "[*********************100%***********************]  1 of 1 completed\n",
      "/var/folders/7x/s9nb0bqj3xj0g6l2sm78vqcm0000gn/T/ipykernel_68068/1502185924.py:30: FutureWarning: 'H' is deprecated and will be removed in a future version, please use 'h' instead.\n",
      "  data_reset['Datetime'] = pd.to_datetime(data_reset['Datetime']).dt.round('H')\n"
     ]
    },
    {
     "name": "stdout",
     "output_type": "stream",
     "text": [
      "Data for USD_JPY saved to USD_JPY_hourly.csv\n",
      "Downloading data for USD_GBP (GBP=X)...\n"
     ]
    },
    {
     "name": "stderr",
     "output_type": "stream",
     "text": [
      "[*********************100%***********************]  1 of 1 completed\n",
      "/var/folders/7x/s9nb0bqj3xj0g6l2sm78vqcm0000gn/T/ipykernel_68068/1502185924.py:30: FutureWarning: 'H' is deprecated and will be removed in a future version, please use 'h' instead.\n",
      "  data_reset['Datetime'] = pd.to_datetime(data_reset['Datetime']).dt.round('H')\n"
     ]
    },
    {
     "name": "stdout",
     "output_type": "stream",
     "text": [
      "Data for USD_GBP saved to USD_GBP_hourly.csv\n",
      "Downloading data for Crude_oil (CL=F)...\n"
     ]
    },
    {
     "name": "stderr",
     "output_type": "stream",
     "text": [
      "[*********************100%***********************]  1 of 1 completed"
     ]
    },
    {
     "name": "stdout",
     "output_type": "stream",
     "text": [
      "Data for Crude_oil saved to Crude_oil_hourly.csv\n"
     ]
    },
    {
     "name": "stderr",
     "output_type": "stream",
     "text": [
      "\n",
      "/var/folders/7x/s9nb0bqj3xj0g6l2sm78vqcm0000gn/T/ipykernel_68068/1502185924.py:30: FutureWarning: 'H' is deprecated and will be removed in a future version, please use 'h' instead.\n",
      "  data_reset['Datetime'] = pd.to_datetime(data_reset['Datetime']).dt.round('H')\n"
     ]
    }
   ],
   "source": [
    "import yfinance as yf\n",
    "\n",
    "# Dictionary of tickers with their names\n",
    "tickers = {\n",
    "    'GC=F': 'Gold_Price',\n",
    "    '^GSPC': 'S&P_500',\n",
    "    '^DJI': 'Dow_Jones',\n",
    "    'EUR=X': 'USD_EUR', \n",
    "    'INR=X': 'USD_INR',\n",
    "    'CNY=X': 'USD_CNY',\n",
    "    'JPY=X': 'USD_JPY',\n",
    "    'GBP=X': 'USD_GBP',\n",
    "    'CL=F': 'Crude_oil'\n",
    "}\n",
    "\n",
    "# Dictionary to store data\n",
    "dataframes = {}\n",
    "\n",
    "# Loop to download data\n",
    "for ticker, name in tickers.items():\n",
    "    print(f\"Downloading data for {name} ({ticker})...\")\n",
    "    \n",
    "    # Download data\n",
    "    dataframes[name] = yf.download(ticker, period=\"2y\", interval=\"1h\")\n",
    "    \n",
    "    # Reset index (make timestamp a normal column)\n",
    "    data_reset = dataframes[name].reset_index()\n",
    "\n",
    "    # Round the 'Datetime' column to the nearest hour\n",
    "    data_reset['Datetime'] = pd.to_datetime(data_reset['Datetime']).dt.round('H')\n",
    "    \n",
    "    # export to CSV file\n",
    "    filename = f\"{name}_hourly.csv\"  \n",
    "    data_reset.to_csv(filename, index=False) \n",
    "    print(f\"Data for {name} saved to {filename}\")"
   ]
  },
  {
   "cell_type": "code",
   "execution_count": 3,
   "id": "298cbdfc-660a-4421-a9ef-53ce87f02b75",
   "metadata": {},
   "outputs": [
    {
     "name": "stderr",
     "output_type": "stream",
     "text": [
      "[*********************100%***********************]  1 of 1 completed"
     ]
    },
    {
     "name": "stdout",
     "output_type": "stream",
     "text": [
      "Downloading data for Gold_Price (GC=F)...\n",
      "Data for Gold_Price saved to Gold_Price_daily.csv\n",
      "Downloading data for S&P_500 (^GSPC)...\n"
     ]
    },
    {
     "name": "stderr",
     "output_type": "stream",
     "text": [
      "\n",
      "[*********************100%***********************]  1 of 1 completed\n",
      "[*********************100%***********************]  1 of 1 completed\n"
     ]
    },
    {
     "name": "stdout",
     "output_type": "stream",
     "text": [
      "Data for S&P_500 saved to S&P_500_daily.csv\n",
      "Downloading data for Dow_Jones (^DJI)...\n",
      "Data for Dow_Jones saved to Dow_Jones_daily.csv\n",
      "Downloading data for USD_EUR (EUR=X)...\n"
     ]
    },
    {
     "name": "stderr",
     "output_type": "stream",
     "text": [
      "[*********************100%***********************]  1 of 1 completed\n",
      "[*********************100%***********************]  1 of 1 completed\n"
     ]
    },
    {
     "name": "stdout",
     "output_type": "stream",
     "text": [
      "Data for USD_EUR saved to USD_EUR_daily.csv\n",
      "Downloading data for USD_INR (INR=X)...\n",
      "Data for USD_INR saved to USD_INR_daily.csv\n",
      "Downloading data for USD_CNY (CNY=X)...\n"
     ]
    },
    {
     "name": "stderr",
     "output_type": "stream",
     "text": [
      "[*********************100%***********************]  1 of 1 completed\n",
      "[*********************100%***********************]  1 of 1 completed\n"
     ]
    },
    {
     "name": "stdout",
     "output_type": "stream",
     "text": [
      "Data for USD_CNY saved to USD_CNY_daily.csv\n",
      "Downloading data for USD_JPY (JPY=X)...\n",
      "Data for USD_JPY saved to USD_JPY_daily.csv\n",
      "Downloading data for USD_GBP (GBP=X)...\n"
     ]
    },
    {
     "name": "stderr",
     "output_type": "stream",
     "text": [
      "[*********************100%***********************]  1 of 1 completed\n",
      "[*********************100%***********************]  1 of 1 completed"
     ]
    },
    {
     "name": "stdout",
     "output_type": "stream",
     "text": [
      "Data for USD_GBP saved to USD_GBP_daily.csv\n",
      "Downloading data for Crude_oil (CL=F)...\n",
      "Data for Crude_oil saved to Crude_oil_daily.csv\n"
     ]
    },
    {
     "name": "stderr",
     "output_type": "stream",
     "text": [
      "\n"
     ]
    }
   ],
   "source": [
    "import yfinance as yf\n",
    "\n",
    "# Dictionary of tickers with their names\n",
    "tickers = {\n",
    "    'GC=F': 'Gold_Price',\n",
    "    '^GSPC': 'S&P_500',\n",
    "    '^DJI': 'Dow_Jones',\n",
    "    'EUR=X': 'USD_EUR', \n",
    "    'INR=X': 'USD_INR',\n",
    "    'CNY=X': 'USD_CNY',\n",
    "    'JPY=X': 'USD_JPY',\n",
    "    'GBP=X': 'USD_GBP',\n",
    "    'CL=F': 'Crude_oil'\n",
    "}\n",
    "\n",
    "# Dictionary to store data\n",
    "dataframes = {}\n",
    "\n",
    "# Loop to download data\n",
    "for ticker, name in tickers.items():\n",
    "    print(f\"Downloading data for {name} ({ticker})...\")\n",
    "    \n",
    "    # Download data\n",
    "    dataframes[name] = yf.download(ticker, period=\"10y\", interval=\"1d\")\n",
    "    \n",
    "    # Reset index (make timestamp a normal column)\n",
    "    data_reset = dataframes[name].reset_index()\n",
    "\n",
    "    # Round the 'Datetime' column to the nearest hour\n",
    "    # data_reset['Datetime'] = pd.to_datetime(data_reset['Datetime']).dt.round('H')\n",
    "    \n",
    "    # export to CSV file\n",
    "    filename = f\"{name}_daily.csv\"  \n",
    "    data_reset.to_csv(filename, index=False) \n",
    "    print(f\"Data for {name} saved to {filename}\")"
   ]
  },
  {
   "cell_type": "code",
   "execution_count": 7,
   "id": "07120b53-640b-4b60-83a7-715e8eab8ba0",
   "metadata": {},
   "outputs": [],
   "source": [
    "import pandas as pd\n",
    "df  = pd.read_csv('Gold_Price_daily.csv')\n"
   ]
  },
  {
   "cell_type": "code",
   "execution_count": 13,
   "id": "9247c34f-3588-4776-bd2f-587a4822e033",
   "metadata": {},
   "outputs": [
    {
     "data": {
      "text/html": [
       "<div>\n",
       "<style scoped>\n",
       "    .dataframe tbody tr th:only-of-type {\n",
       "        vertical-align: middle;\n",
       "    }\n",
       "\n",
       "    .dataframe tbody tr th {\n",
       "        vertical-align: top;\n",
       "    }\n",
       "\n",
       "    .dataframe thead th {\n",
       "        text-align: right;\n",
       "    }\n",
       "</style>\n",
       "<table border=\"1\" class=\"dataframe\">\n",
       "  <thead>\n",
       "    <tr style=\"text-align: right;\">\n",
       "      <th></th>\n",
       "      <th>Date</th>\n",
       "      <th>Adj Close</th>\n",
       "      <th>Close</th>\n",
       "      <th>High</th>\n",
       "      <th>Low</th>\n",
       "      <th>Open</th>\n",
       "      <th>Volume</th>\n",
       "    </tr>\n",
       "  </thead>\n",
       "  <tbody>\n",
       "    <tr>\n",
       "      <th>1296</th>\n",
       "      <td>2020-02-06</td>\n",
       "      <td>1565.0999755859375</td>\n",
       "      <td>1565.0999755859375</td>\n",
       "      <td>1565.5999755859375</td>\n",
       "      <td>1551.5999755859375</td>\n",
       "      <td>1553.5999755859375</td>\n",
       "      <td>110</td>\n",
       "    </tr>\n",
       "  </tbody>\n",
       "</table>\n",
       "</div>"
      ],
      "text/plain": [
       "            Date           Adj Close               Close                High  \\\n",
       "1296  2020-02-06  1565.0999755859375  1565.0999755859375  1565.5999755859375   \n",
       "\n",
       "                     Low                Open Volume  \n",
       "1296  1551.5999755859375  1553.5999755859375    110  "
      ]
     },
     "execution_count": 13,
     "metadata": {},
     "output_type": "execute_result"
    }
   ],
   "source": [
    "df[df['Date'] == '2020-02-06']"
   ]
  },
  {
   "cell_type": "code",
   "execution_count": null,
   "id": "fb1a6532-22eb-49d1-a467-8d82d46262b6",
   "metadata": {},
   "outputs": [],
   "source": []
  }
 ],
 "metadata": {
  "kernelspec": {
   "display_name": "Python 3 (ipykernel)",
   "language": "python",
   "name": "python3"
  },
  "language_info": {
   "codemirror_mode": {
    "name": "ipython",
    "version": 3
   },
   "file_extension": ".py",
   "mimetype": "text/x-python",
   "name": "python",
   "nbconvert_exporter": "python",
   "pygments_lexer": "ipython3",
   "version": "3.12.4"
  }
 },
 "nbformat": 4,
 "nbformat_minor": 5
}
