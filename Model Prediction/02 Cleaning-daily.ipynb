{
 "cells": [
  {
   "cell_type": "markdown",
   "id": "7cb918ca-b77a-4b20-b15b-6515c9811113",
   "metadata": {},
   "source": [
    "## Importing Library"
   ]
  },
  {
   "cell_type": "code",
   "execution_count": 4,
   "id": "9ecae210-7365-4778-bca6-7c7d7317ff77",
   "metadata": {},
   "outputs": [],
   "source": [
    "import pandas as pd\n",
    "import numpy as np"
   ]
  },
  {
   "cell_type": "markdown",
   "id": "468b220a-5635-4101-8567-6c7fc6eb26b5",
   "metadata": {},
   "source": [
    "## Import files "
   ]
  },
  {
   "cell_type": "code",
   "execution_count": 6,
   "id": "b5dc78ed-7787-4f23-b25d-271856bc44d9",
   "metadata": {},
   "outputs": [],
   "source": [
    "# read the file (1-hr based)\n",
    "gold_df = pd.read_csv('./gold_price_daily.csv')\n",
    "SP_df = pd.read_csv('./S&P_500_daily.csv')\n",
    "DJI_df = pd.read_csv('./Dow_Jones_daily.csv')\n",
    "EUR_df =  pd.read_csv('./USD_EUR_daily.csv')\n",
    "INR_df = pd.read_csv('./USD_INR_daily.csv')\n",
    "CNY_df = pd.read_csv('./USD_CNY_daily.csv')\n",
    "JPY_df = pd.read_csv('./USD_JPY_daily.csv')\n",
    "GBP_df = pd.read_csv('./USD_GBP_daily.csv')\n",
    "crude_oil_df = pd.read_csv('./Crude_oil_daily.csv')"
   ]
  },
  {
   "cell_type": "code",
   "execution_count": 7,
   "id": "ca148985-407b-4d0c-a186-4cfeb6e8fcb7",
   "metadata": {},
   "outputs": [
    {
     "data": {
      "text/plain": [
       "((2516, 7),\n",
       " (2518, 7),\n",
       " (2518, 7),\n",
       " (2608, 7),\n",
       " (2608, 7),\n",
       " (2607, 7),\n",
       " (2608, 7),\n",
       " (2608, 7),\n",
       " (2517, 7))"
      ]
     },
     "execution_count": 7,
     "metadata": {},
     "output_type": "execute_result"
    }
   ],
   "source": [
    "gold_df.shape, SP_df.shape, DJI_df.shape, EUR_df.shape, INR_df.shape, CNY_df.shape, JPY_df.shape, GBP_df.shape, crude_oil_df.shape"
   ]
  },
  {
   "cell_type": "code",
   "execution_count": 16,
   "id": "83f66917-e86c-4b7a-b70e-63a9119d784f",
   "metadata": {},
   "outputs": [
    {
     "data": {
      "text/html": [
       "<div>\n",
       "<style scoped>\n",
       "    .dataframe tbody tr th:only-of-type {\n",
       "        vertical-align: middle;\n",
       "    }\n",
       "\n",
       "    .dataframe tbody tr th {\n",
       "        vertical-align: top;\n",
       "    }\n",
       "\n",
       "    .dataframe thead th {\n",
       "        text-align: right;\n",
       "    }\n",
       "</style>\n",
       "<table border=\"1\" class=\"dataframe\">\n",
       "  <thead>\n",
       "    <tr style=\"text-align: right;\">\n",
       "      <th></th>\n",
       "      <th>Date</th>\n",
       "      <th>Adj Close</th>\n",
       "      <th>Close</th>\n",
       "      <th>High</th>\n",
       "      <th>Low</th>\n",
       "      <th>Open</th>\n",
       "      <th>Volume</th>\n",
       "    </tr>\n",
       "  </thead>\n",
       "  <tbody>\n",
       "    <tr>\n",
       "      <th>0</th>\n",
       "      <td>NaN</td>\n",
       "      <td>GC=F</td>\n",
       "      <td>GC=F</td>\n",
       "      <td>GC=F</td>\n",
       "      <td>GC=F</td>\n",
       "      <td>GC=F</td>\n",
       "      <td>GC=F</td>\n",
       "    </tr>\n",
       "    <tr>\n",
       "      <th>1</th>\n",
       "      <td>2014-12-09</td>\n",
       "      <td>1231.5</td>\n",
       "      <td>1231.5</td>\n",
       "      <td>1238.0</td>\n",
       "      <td>1202.0</td>\n",
       "      <td>1202.0</td>\n",
       "      <td>314</td>\n",
       "    </tr>\n",
       "    <tr>\n",
       "      <th>2</th>\n",
       "      <td>2014-12-10</td>\n",
       "      <td>1228.9000244140625</td>\n",
       "      <td>1228.9000244140625</td>\n",
       "      <td>1234.5999755859375</td>\n",
       "      <td>1226.5999755859375</td>\n",
       "      <td>1231.199951171875</td>\n",
       "      <td>306</td>\n",
       "    </tr>\n",
       "    <tr>\n",
       "      <th>3</th>\n",
       "      <td>2014-12-11</td>\n",
       "      <td>1225.0999755859375</td>\n",
       "      <td>1225.0999755859375</td>\n",
       "      <td>1231.199951171875</td>\n",
       "      <td>1216.199951171875</td>\n",
       "      <td>1226.5999755859375</td>\n",
       "      <td>264</td>\n",
       "    </tr>\n",
       "    <tr>\n",
       "      <th>4</th>\n",
       "      <td>2014-12-12</td>\n",
       "      <td>1222.0</td>\n",
       "      <td>1222.0</td>\n",
       "      <td>1227.800048828125</td>\n",
       "      <td>1216.199951171875</td>\n",
       "      <td>1227.800048828125</td>\n",
       "      <td>203</td>\n",
       "    </tr>\n",
       "    <tr>\n",
       "      <th>...</th>\n",
       "      <td>...</td>\n",
       "      <td>...</td>\n",
       "      <td>...</td>\n",
       "      <td>...</td>\n",
       "      <td>...</td>\n",
       "      <td>...</td>\n",
       "      <td>...</td>\n",
       "    </tr>\n",
       "    <tr>\n",
       "      <th>2511</th>\n",
       "      <td>2024-12-03</td>\n",
       "      <td>2644.699951171875</td>\n",
       "      <td>2644.699951171875</td>\n",
       "      <td>2654.699951171875</td>\n",
       "      <td>2636.0</td>\n",
       "      <td>2639.0</td>\n",
       "      <td>1062</td>\n",
       "    </tr>\n",
       "    <tr>\n",
       "      <th>2512</th>\n",
       "      <td>2024-12-04</td>\n",
       "      <td>2653.800048828125</td>\n",
       "      <td>2653.800048828125</td>\n",
       "      <td>2658.300048828125</td>\n",
       "      <td>2637.0</td>\n",
       "      <td>2639.199951171875</td>\n",
       "      <td>249</td>\n",
       "    </tr>\n",
       "    <tr>\n",
       "      <th>2513</th>\n",
       "      <td>2024-12-05</td>\n",
       "      <td>2626.60009765625</td>\n",
       "      <td>2626.60009765625</td>\n",
       "      <td>2655.0</td>\n",
       "      <td>2625.699951171875</td>\n",
       "      <td>2652.39990234375</td>\n",
       "      <td>573</td>\n",
       "    </tr>\n",
       "    <tr>\n",
       "      <th>2514</th>\n",
       "      <td>2024-12-06</td>\n",
       "      <td>2638.60009765625</td>\n",
       "      <td>2638.60009765625</td>\n",
       "      <td>2643.10009765625</td>\n",
       "      <td>2617.5</td>\n",
       "      <td>2620.199951171875</td>\n",
       "      <td>573</td>\n",
       "    </tr>\n",
       "    <tr>\n",
       "      <th>2515</th>\n",
       "      <td>2024-12-09</td>\n",
       "      <td>2671.89990234375</td>\n",
       "      <td>2671.89990234375</td>\n",
       "      <td>2650.800048828125</td>\n",
       "      <td>2630.800048828125</td>\n",
       "      <td>2632.10009765625</td>\n",
       "      <td>44762</td>\n",
       "    </tr>\n",
       "  </tbody>\n",
       "</table>\n",
       "<p>2516 rows × 7 columns</p>\n",
       "</div>"
      ],
      "text/plain": [
       "            Date           Adj Close               Close                High  \\\n",
       "0            NaN                GC=F                GC=F                GC=F   \n",
       "1     2014-12-09              1231.5              1231.5              1238.0   \n",
       "2     2014-12-10  1228.9000244140625  1228.9000244140625  1234.5999755859375   \n",
       "3     2014-12-11  1225.0999755859375  1225.0999755859375   1231.199951171875   \n",
       "4     2014-12-12              1222.0              1222.0   1227.800048828125   \n",
       "...          ...                 ...                 ...                 ...   \n",
       "2511  2024-12-03   2644.699951171875   2644.699951171875   2654.699951171875   \n",
       "2512  2024-12-04   2653.800048828125   2653.800048828125   2658.300048828125   \n",
       "2513  2024-12-05    2626.60009765625    2626.60009765625              2655.0   \n",
       "2514  2024-12-06    2638.60009765625    2638.60009765625    2643.10009765625   \n",
       "2515  2024-12-09    2671.89990234375    2671.89990234375   2650.800048828125   \n",
       "\n",
       "                     Low                Open Volume  \n",
       "0                   GC=F                GC=F   GC=F  \n",
       "1                 1202.0              1202.0    314  \n",
       "2     1226.5999755859375   1231.199951171875    306  \n",
       "3      1216.199951171875  1226.5999755859375    264  \n",
       "4      1216.199951171875   1227.800048828125    203  \n",
       "...                  ...                 ...    ...  \n",
       "2511              2636.0              2639.0   1062  \n",
       "2512              2637.0   2639.199951171875    249  \n",
       "2513   2625.699951171875    2652.39990234375    573  \n",
       "2514              2617.5   2620.199951171875    573  \n",
       "2515   2630.800048828125    2632.10009765625  44762  \n",
       "\n",
       "[2516 rows x 7 columns]"
      ]
     },
     "execution_count": 16,
     "metadata": {},
     "output_type": "execute_result"
    }
   ],
   "source": [
    "gold_df"
   ]
  },
  {
   "cell_type": "code",
   "execution_count": 18,
   "id": "7d0b2a2d-4277-45c6-aefb-35bce5dd13c8",
   "metadata": {},
   "outputs": [],
   "source": [
    "# Merge the dataframe with only 'close' column, merge on the 'Date'\n",
    "name_for_column  = {'gold price' : gold_df, \n",
    "                    'S&P500': SP_df,\n",
    "                    'DowJones': DJI_df,\n",
    "                    'eur': EUR_df,\n",
    "                    'inr': INR_df,\n",
    "                    'cny': CNY_df,\n",
    "                    'jpy': JPY_df,\n",
    "                    'gbp': GBP_df,\n",
    "                    'oil price': crude_oil_df\n",
    "                   }\n",
    "\n",
    "# Creat an empty dataframe\n",
    "merged_df = None\n",
    "\n",
    "for name, df in name_for_column.items():\n",
    "    # Select only columns 'Date' and 'Close'\n",
    "    n_df = df[['Date', 'Close']]\n",
    "\n",
    "    # Rename the column\n",
    "    n_df = n_df.rename(columns={'Close':name})\n",
    "\n",
    "    # Merging dataframe\n",
    "    if merged_df is None:\n",
    "        # If it's the first dataframe\n",
    "        merged_df = n_df\n",
    "    else:\n",
    "        # Merge with the existing merged dataframe (by keeping the common Date)\n",
    "        merged_df = pd.merge(merged_df, n_df, on='Date', how='inner')\n",
    "\n"
   ]
  },
  {
   "cell_type": "code",
   "execution_count": 20,
   "id": "998d0775-7652-4b83-951c-a85c38516688",
   "metadata": {},
   "outputs": [
    {
     "data": {
      "text/html": [
       "<div>\n",
       "<style scoped>\n",
       "    .dataframe tbody tr th:only-of-type {\n",
       "        vertical-align: middle;\n",
       "    }\n",
       "\n",
       "    .dataframe tbody tr th {\n",
       "        vertical-align: top;\n",
       "    }\n",
       "\n",
       "    .dataframe thead th {\n",
       "        text-align: right;\n",
       "    }\n",
       "</style>\n",
       "<table border=\"1\" class=\"dataframe\">\n",
       "  <thead>\n",
       "    <tr style=\"text-align: right;\">\n",
       "      <th></th>\n",
       "      <th>Date</th>\n",
       "      <th>gold price</th>\n",
       "      <th>S&amp;P500</th>\n",
       "      <th>DowJones</th>\n",
       "      <th>eur</th>\n",
       "      <th>inr</th>\n",
       "      <th>cny</th>\n",
       "      <th>jpy</th>\n",
       "      <th>gbp</th>\n",
       "      <th>oil price</th>\n",
       "    </tr>\n",
       "  </thead>\n",
       "  <tbody>\n",
       "    <tr>\n",
       "      <th>0</th>\n",
       "      <td>NaN</td>\n",
       "      <td>GC=F</td>\n",
       "      <td>^GSPC</td>\n",
       "      <td>^DJI</td>\n",
       "      <td>EUR=X</td>\n",
       "      <td>INR=X</td>\n",
       "      <td>CNY=X</td>\n",
       "      <td>JPY=X</td>\n",
       "      <td>GBP=X</td>\n",
       "      <td>CL=F</td>\n",
       "    </tr>\n",
       "    <tr>\n",
       "      <th>1</th>\n",
       "      <td>2014-12-09</td>\n",
       "      <td>1231.5</td>\n",
       "      <td>2059.820068359375</td>\n",
       "      <td>17801.19921875</td>\n",
       "      <td>0.8120099902153015</td>\n",
       "      <td>61.81800079345703</td>\n",
       "      <td>6.163000106811523</td>\n",
       "      <td>120.6500015258789</td>\n",
       "      <td>0.6389099955558777</td>\n",
       "      <td>63.81999969482422</td>\n",
       "    </tr>\n",
       "  </tbody>\n",
       "</table>\n",
       "</div>"
      ],
      "text/plain": [
       "         Date gold price             S&P500        DowJones  \\\n",
       "0         NaN       GC=F              ^GSPC            ^DJI   \n",
       "1  2014-12-09     1231.5  2059.820068359375  17801.19921875   \n",
       "\n",
       "                  eur                inr                cny  \\\n",
       "0               EUR=X              INR=X              CNY=X   \n",
       "1  0.8120099902153015  61.81800079345703  6.163000106811523   \n",
       "\n",
       "                 jpy                 gbp          oil price  \n",
       "0              JPY=X               GBP=X               CL=F  \n",
       "1  120.6500015258789  0.6389099955558777  63.81999969482422  "
      ]
     },
     "execution_count": 20,
     "metadata": {},
     "output_type": "execute_result"
    }
   ],
   "source": [
    "merged_df.head(2)"
   ]
  },
  {
   "cell_type": "code",
   "execution_count": 22,
   "id": "a873e110-db3a-4c07-938a-09c932155dd2",
   "metadata": {},
   "outputs": [
    {
     "data": {
      "text/plain": [
       "Date          1\n",
       "gold price    0\n",
       "S&P500        0\n",
       "DowJones      0\n",
       "eur           0\n",
       "inr           0\n",
       "cny           0\n",
       "jpy           0\n",
       "gbp           0\n",
       "oil price     0\n",
       "dtype: int64"
      ]
     },
     "execution_count": 22,
     "metadata": {},
     "output_type": "execute_result"
    }
   ],
   "source": [
    "merged_df.isnull().sum()"
   ]
  },
  {
   "cell_type": "code",
   "execution_count": 24,
   "id": "b2a1a41a-7f74-4f1f-a385-5cde3a42c83b",
   "metadata": {},
   "outputs": [],
   "source": [
    "# Drop nan values, as that row is not going to be used \n",
    "merged_df.dropna(inplace=True)"
   ]
  },
  {
   "cell_type": "code",
   "execution_count": 26,
   "id": "76ef3163-74f3-425e-bc83-f6449f6c79b2",
   "metadata": {},
   "outputs": [],
   "source": [
    "# Converting the data object into float64 for further calculation\n",
    "columns_to_convert = ['gold price', 'S&P500', 'DowJones', 'eur', 'inr', 'cny', 'jpy', 'gbp', 'oil price']\n",
    "merged_df[columns_to_convert] = merged_df[columns_to_convert].astype(np.float64)"
   ]
  },
  {
   "cell_type": "code",
   "execution_count": 34,
   "id": "6e2debda-4c50-4074-b0bc-2f2591a6a0fc",
   "metadata": {},
   "outputs": [],
   "source": [
    "# Converting the Date into Date \n",
    "merged_df['Date'] = pd.to_datetime(merged_df['Date'])"
   ]
  },
  {
   "cell_type": "code",
   "execution_count": 38,
   "id": "8f7cc15b-bf99-4618-a017-f43721faeaa4",
   "metadata": {},
   "outputs": [],
   "source": [
    "# Saving the dataframe\n",
    "merged_df.to_csv('quanti_df_daily.csv', index=False)"
   ]
  },
  {
   "cell_type": "code",
   "execution_count": null,
   "id": "74ae5604-63bf-4f37-9d72-a5631ad3d98d",
   "metadata": {},
   "outputs": [],
   "source": []
  }
 ],
 "metadata": {
  "kernelspec": {
   "display_name": "Python 3 (ipykernel)",
   "language": "python",
   "name": "python3"
  },
  "language_info": {
   "codemirror_mode": {
    "name": "ipython",
    "version": 3
   },
   "file_extension": ".py",
   "mimetype": "text/x-python",
   "name": "python",
   "nbconvert_exporter": "python",
   "pygments_lexer": "ipython3",
   "version": "3.12.4"
  }
 },
 "nbformat": 4,
 "nbformat_minor": 5
}
