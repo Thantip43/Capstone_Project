{
 "cells": [
  {
   "cell_type": "code",
   "execution_count": 184,
   "id": "5fc2d8b9",
   "metadata": {
    "papermill": {
     "duration": 7.44769,
     "end_time": "2023-01-13T21:38:54.003817",
     "exception": false,
     "start_time": "2023-01-13T21:38:46.556127",
     "status": "completed"
    },
    "tags": []
   },
   "outputs": [],
   "source": [
    "import numpy as np\n",
    "import pandas as pd\n",
    "import matplotlib.pyplot as plt\n",
    "import plotly.express as px\n",
    "from sklearn.preprocessing import MinMaxScaler\n",
    "from sklearn.model_selection import train_test_split\n",
    "from sklearn.metrics import mean_absolute_percentage_error, mean_squared_error\n",
    "import tensorflow as tf\n",
    "from keras import Model\n",
    "from keras.layers import Input, Dense, Dropout\n",
    "from keras.layers import LSTM\n",
    "from keras.models import Sequential\n",
    "import seaborn as sns\n",
    "sns.set_theme(style=\"whitegrid\")"
   ]
  },
  {
   "cell_type": "markdown",
   "id": "5b875a98",
   "metadata": {
    "papermill": {
     "duration": 0.018727,
     "end_time": "2023-01-13T21:38:54.042369",
     "exception": false,
     "start_time": "2023-01-13T21:38:54.023642",
     "status": "completed"
    },
    "tags": []
   },
   "source": [
    "### Reading Dataset"
   ]
  },
  {
   "cell_type": "code",
   "execution_count": 6,
   "id": "7548c18f-f857-470b-bbfa-835a4e9a48a6",
   "metadata": {},
   "outputs": [],
   "source": [
    "df_k = pd.read_csv('Gold Price (2013-2023).csv')"
   ]
  },
  {
   "cell_type": "code",
   "execution_count": 7,
   "id": "a4b66d72",
   "metadata": {
    "papermill": {
     "duration": 0.052309,
     "end_time": "2023-01-13T21:38:54.114358",
     "exception": false,
     "start_time": "2023-01-13T21:38:54.062049",
     "status": "completed"
    },
    "tags": []
   },
   "outputs": [],
   "source": [
    "df = pd.read_csv('Gold_Price_daily.csv')"
   ]
  },
  {
   "cell_type": "code",
   "execution_count": 8,
   "id": "a361aa91-02df-462f-84fd-c5f422823673",
   "metadata": {},
   "outputs": [
    {
     "data": {
      "text/html": [
       "<div>\n",
       "<style scoped>\n",
       "    .dataframe tbody tr th:only-of-type {\n",
       "        vertical-align: middle;\n",
       "    }\n",
       "\n",
       "    .dataframe tbody tr th {\n",
       "        vertical-align: top;\n",
       "    }\n",
       "\n",
       "    .dataframe thead th {\n",
       "        text-align: right;\n",
       "    }\n",
       "</style>\n",
       "<table border=\"1\" class=\"dataframe\">\n",
       "  <thead>\n",
       "    <tr style=\"text-align: right;\">\n",
       "      <th></th>\n",
       "      <th>Date</th>\n",
       "      <th>Close</th>\n",
       "      <th>High</th>\n",
       "      <th>Low</th>\n",
       "      <th>Open</th>\n",
       "    </tr>\n",
       "  </thead>\n",
       "  <tbody>\n",
       "    <tr>\n",
       "      <th>0</th>\n",
       "      <td>NaN</td>\n",
       "      <td>GC=F</td>\n",
       "      <td>GC=F</td>\n",
       "      <td>GC=F</td>\n",
       "      <td>GC=F</td>\n",
       "    </tr>\n",
       "    <tr>\n",
       "      <th>1</th>\n",
       "      <td>2014-12-09</td>\n",
       "      <td>1231.5</td>\n",
       "      <td>1238.0</td>\n",
       "      <td>1202.0</td>\n",
       "      <td>1202.0</td>\n",
       "    </tr>\n",
       "    <tr>\n",
       "      <th>2</th>\n",
       "      <td>2014-12-10</td>\n",
       "      <td>1228.9000244140625</td>\n",
       "      <td>1234.5999755859375</td>\n",
       "      <td>1226.5999755859375</td>\n",
       "      <td>1231.199951171875</td>\n",
       "    </tr>\n",
       "    <tr>\n",
       "      <th>3</th>\n",
       "      <td>2014-12-11</td>\n",
       "      <td>1225.0999755859375</td>\n",
       "      <td>1231.199951171875</td>\n",
       "      <td>1216.199951171875</td>\n",
       "      <td>1226.5999755859375</td>\n",
       "    </tr>\n",
       "    <tr>\n",
       "      <th>4</th>\n",
       "      <td>2014-12-12</td>\n",
       "      <td>1222.0</td>\n",
       "      <td>1227.800048828125</td>\n",
       "      <td>1216.199951171875</td>\n",
       "      <td>1227.800048828125</td>\n",
       "    </tr>\n",
       "    <tr>\n",
       "      <th>...</th>\n",
       "      <td>...</td>\n",
       "      <td>...</td>\n",
       "      <td>...</td>\n",
       "      <td>...</td>\n",
       "      <td>...</td>\n",
       "    </tr>\n",
       "    <tr>\n",
       "      <th>2511</th>\n",
       "      <td>2024-12-03</td>\n",
       "      <td>2644.699951171875</td>\n",
       "      <td>2654.699951171875</td>\n",
       "      <td>2636.0</td>\n",
       "      <td>2639.0</td>\n",
       "    </tr>\n",
       "    <tr>\n",
       "      <th>2512</th>\n",
       "      <td>2024-12-04</td>\n",
       "      <td>2653.800048828125</td>\n",
       "      <td>2658.300048828125</td>\n",
       "      <td>2637.0</td>\n",
       "      <td>2639.199951171875</td>\n",
       "    </tr>\n",
       "    <tr>\n",
       "      <th>2513</th>\n",
       "      <td>2024-12-05</td>\n",
       "      <td>2626.60009765625</td>\n",
       "      <td>2655.0</td>\n",
       "      <td>2625.699951171875</td>\n",
       "      <td>2652.39990234375</td>\n",
       "    </tr>\n",
       "    <tr>\n",
       "      <th>2514</th>\n",
       "      <td>2024-12-06</td>\n",
       "      <td>2638.60009765625</td>\n",
       "      <td>2643.10009765625</td>\n",
       "      <td>2617.5</td>\n",
       "      <td>2620.199951171875</td>\n",
       "    </tr>\n",
       "    <tr>\n",
       "      <th>2515</th>\n",
       "      <td>2024-12-09</td>\n",
       "      <td>2671.89990234375</td>\n",
       "      <td>2650.800048828125</td>\n",
       "      <td>2630.800048828125</td>\n",
       "      <td>2632.10009765625</td>\n",
       "    </tr>\n",
       "  </tbody>\n",
       "</table>\n",
       "<p>2516 rows × 5 columns</p>\n",
       "</div>"
      ],
      "text/plain": [
       "            Date               Close                High                 Low  \\\n",
       "0            NaN                GC=F                GC=F                GC=F   \n",
       "1     2014-12-09              1231.5              1238.0              1202.0   \n",
       "2     2014-12-10  1228.9000244140625  1234.5999755859375  1226.5999755859375   \n",
       "3     2014-12-11  1225.0999755859375   1231.199951171875   1216.199951171875   \n",
       "4     2014-12-12              1222.0   1227.800048828125   1216.199951171875   \n",
       "...          ...                 ...                 ...                 ...   \n",
       "2511  2024-12-03   2644.699951171875   2654.699951171875              2636.0   \n",
       "2512  2024-12-04   2653.800048828125   2658.300048828125              2637.0   \n",
       "2513  2024-12-05    2626.60009765625              2655.0   2625.699951171875   \n",
       "2514  2024-12-06    2638.60009765625    2643.10009765625              2617.5   \n",
       "2515  2024-12-09    2671.89990234375   2650.800048828125   2630.800048828125   \n",
       "\n",
       "                    Open  \n",
       "0                   GC=F  \n",
       "1                 1202.0  \n",
       "2      1231.199951171875  \n",
       "3     1226.5999755859375  \n",
       "4      1227.800048828125  \n",
       "...                  ...  \n",
       "2511              2639.0  \n",
       "2512   2639.199951171875  \n",
       "2513    2652.39990234375  \n",
       "2514   2620.199951171875  \n",
       "2515    2632.10009765625  \n",
       "\n",
       "[2516 rows x 5 columns]"
      ]
     },
     "execution_count": 8,
     "metadata": {},
     "output_type": "execute_result"
    }
   ],
   "source": [
    "df = df.drop(columns={'Adj Close', 'Volume'})\n",
    "df"
   ]
  },
  {
   "cell_type": "code",
   "execution_count": 9,
   "id": "60846b1c-5868-4858-aecf-a2659a814cfb",
   "metadata": {},
   "outputs": [],
   "source": [
    "df.dropna(inplace=True)"
   ]
  },
  {
   "cell_type": "code",
   "execution_count": 10,
   "id": "08c1af7b-65d9-4579-af0f-74c670d8413d",
   "metadata": {},
   "outputs": [
    {
     "data": {
      "text/html": [
       "<div>\n",
       "<style scoped>\n",
       "    .dataframe tbody tr th:only-of-type {\n",
       "        vertical-align: middle;\n",
       "    }\n",
       "\n",
       "    .dataframe tbody tr th {\n",
       "        vertical-align: top;\n",
       "    }\n",
       "\n",
       "    .dataframe thead th {\n",
       "        text-align: right;\n",
       "    }\n",
       "</style>\n",
       "<table border=\"1\" class=\"dataframe\">\n",
       "  <thead>\n",
       "    <tr style=\"text-align: right;\">\n",
       "      <th></th>\n",
       "      <th>Date</th>\n",
       "      <th>Price</th>\n",
       "      <th>Open</th>\n",
       "      <th>High</th>\n",
       "      <th>Low</th>\n",
       "      <th>Vol.</th>\n",
       "      <th>Change %</th>\n",
       "    </tr>\n",
       "  </thead>\n",
       "  <tbody>\n",
       "    <tr>\n",
       "      <th>0</th>\n",
       "      <td>12/30/2022</td>\n",
       "      <td>1,826.20</td>\n",
       "      <td>1,821.80</td>\n",
       "      <td>1,832.40</td>\n",
       "      <td>1,819.80</td>\n",
       "      <td>107.50K</td>\n",
       "      <td>0.01%</td>\n",
       "    </tr>\n",
       "    <tr>\n",
       "      <th>1</th>\n",
       "      <td>12/29/2022</td>\n",
       "      <td>1,826.00</td>\n",
       "      <td>1,812.30</td>\n",
       "      <td>1,827.30</td>\n",
       "      <td>1,811.20</td>\n",
       "      <td>105.99K</td>\n",
       "      <td>0.56%</td>\n",
       "    </tr>\n",
       "    <tr>\n",
       "      <th>2</th>\n",
       "      <td>12/28/2022</td>\n",
       "      <td>1,815.80</td>\n",
       "      <td>1,822.40</td>\n",
       "      <td>1,822.80</td>\n",
       "      <td>1,804.20</td>\n",
       "      <td>118.08K</td>\n",
       "      <td>-0.40%</td>\n",
       "    </tr>\n",
       "    <tr>\n",
       "      <th>3</th>\n",
       "      <td>12/27/2022</td>\n",
       "      <td>1,823.10</td>\n",
       "      <td>1,808.20</td>\n",
       "      <td>1,841.90</td>\n",
       "      <td>1,808.00</td>\n",
       "      <td>159.62K</td>\n",
       "      <td>0.74%</td>\n",
       "    </tr>\n",
       "    <tr>\n",
       "      <th>4</th>\n",
       "      <td>12/26/2022</td>\n",
       "      <td>1,809.70</td>\n",
       "      <td>1,805.80</td>\n",
       "      <td>1,811.95</td>\n",
       "      <td>1,805.55</td>\n",
       "      <td>NaN</td>\n",
       "      <td>0.30%</td>\n",
       "    </tr>\n",
       "    <tr>\n",
       "      <th>...</th>\n",
       "      <td>...</td>\n",
       "      <td>...</td>\n",
       "      <td>...</td>\n",
       "      <td>...</td>\n",
       "      <td>...</td>\n",
       "      <td>...</td>\n",
       "      <td>...</td>\n",
       "    </tr>\n",
       "    <tr>\n",
       "      <th>2578</th>\n",
       "      <td>01/08/2013</td>\n",
       "      <td>1,663.20</td>\n",
       "      <td>1,651.50</td>\n",
       "      <td>1,662.60</td>\n",
       "      <td>1,648.80</td>\n",
       "      <td>0.13K</td>\n",
       "      <td>0.97%</td>\n",
       "    </tr>\n",
       "    <tr>\n",
       "      <th>2579</th>\n",
       "      <td>01/07/2013</td>\n",
       "      <td>1,647.20</td>\n",
       "      <td>1,657.30</td>\n",
       "      <td>1,663.80</td>\n",
       "      <td>1,645.30</td>\n",
       "      <td>0.09K</td>\n",
       "      <td>-0.16%</td>\n",
       "    </tr>\n",
       "    <tr>\n",
       "      <th>2580</th>\n",
       "      <td>01/04/2013</td>\n",
       "      <td>1,649.90</td>\n",
       "      <td>1,664.40</td>\n",
       "      <td>1,664.40</td>\n",
       "      <td>1,630.00</td>\n",
       "      <td>0.31K</td>\n",
       "      <td>-1.53%</td>\n",
       "    </tr>\n",
       "    <tr>\n",
       "      <th>2581</th>\n",
       "      <td>01/03/2013</td>\n",
       "      <td>1,675.60</td>\n",
       "      <td>1,688.00</td>\n",
       "      <td>1,689.30</td>\n",
       "      <td>1,664.30</td>\n",
       "      <td>0.19K</td>\n",
       "      <td>-0.85%</td>\n",
       "    </tr>\n",
       "    <tr>\n",
       "      <th>2582</th>\n",
       "      <td>01/02/2013</td>\n",
       "      <td>1,689.90</td>\n",
       "      <td>1,675.80</td>\n",
       "      <td>1,695.00</td>\n",
       "      <td>1,672.10</td>\n",
       "      <td>0.06K</td>\n",
       "      <td>0.78%</td>\n",
       "    </tr>\n",
       "  </tbody>\n",
       "</table>\n",
       "<p>2583 rows × 7 columns</p>\n",
       "</div>"
      ],
      "text/plain": [
       "            Date     Price      Open      High       Low     Vol. Change %\n",
       "0     12/30/2022  1,826.20  1,821.80  1,832.40  1,819.80  107.50K    0.01%\n",
       "1     12/29/2022  1,826.00  1,812.30  1,827.30  1,811.20  105.99K    0.56%\n",
       "2     12/28/2022  1,815.80  1,822.40  1,822.80  1,804.20  118.08K   -0.40%\n",
       "3     12/27/2022  1,823.10  1,808.20  1,841.90  1,808.00  159.62K    0.74%\n",
       "4     12/26/2022  1,809.70  1,805.80  1,811.95  1,805.55      NaN    0.30%\n",
       "...          ...       ...       ...       ...       ...      ...      ...\n",
       "2578  01/08/2013  1,663.20  1,651.50  1,662.60  1,648.80    0.13K    0.97%\n",
       "2579  01/07/2013  1,647.20  1,657.30  1,663.80  1,645.30    0.09K   -0.16%\n",
       "2580  01/04/2013  1,649.90  1,664.40  1,664.40  1,630.00    0.31K   -1.53%\n",
       "2581  01/03/2013  1,675.60  1,688.00  1,689.30  1,664.30    0.19K   -0.85%\n",
       "2582  01/02/2013  1,689.90  1,675.80  1,695.00  1,672.10    0.06K    0.78%\n",
       "\n",
       "[2583 rows x 7 columns]"
      ]
     },
     "execution_count": 10,
     "metadata": {},
     "output_type": "execute_result"
    }
   ],
   "source": [
    "df_k"
   ]
  },
  {
   "cell_type": "code",
   "execution_count": 11,
   "id": "7d700680-2881-46d8-86c0-6e897cd4af62",
   "metadata": {},
   "outputs": [],
   "source": [
    "df.rename(columns={'Close': 'Price'}, inplace=True)"
   ]
  },
  {
   "cell_type": "code",
   "execution_count": 13,
   "id": "5f758f97",
   "metadata": {
    "papermill": {
     "duration": 0.048071,
     "end_time": "2023-01-13T21:38:54.219630",
     "exception": false,
     "start_time": "2023-01-13T21:38:54.171559",
     "status": "completed"
    },
    "tags": []
   },
   "outputs": [
    {
     "data": {
      "text/html": [
       "<div>\n",
       "<style scoped>\n",
       "    .dataframe tbody tr th:only-of-type {\n",
       "        vertical-align: middle;\n",
       "    }\n",
       "\n",
       "    .dataframe tbody tr th {\n",
       "        vertical-align: top;\n",
       "    }\n",
       "\n",
       "    .dataframe thead th {\n",
       "        text-align: right;\n",
       "    }\n",
       "</style>\n",
       "<table border=\"1\" class=\"dataframe\">\n",
       "  <thead>\n",
       "    <tr style=\"text-align: right;\">\n",
       "      <th></th>\n",
       "      <th>Date</th>\n",
       "      <th>Price</th>\n",
       "      <th>High</th>\n",
       "      <th>Low</th>\n",
       "      <th>Open</th>\n",
       "    </tr>\n",
       "  </thead>\n",
       "  <tbody>\n",
       "    <tr>\n",
       "      <th>1</th>\n",
       "      <td>2014-12-09</td>\n",
       "      <td>1231.5</td>\n",
       "      <td>1238.0</td>\n",
       "      <td>1202.0</td>\n",
       "      <td>1202.0</td>\n",
       "    </tr>\n",
       "    <tr>\n",
       "      <th>2</th>\n",
       "      <td>2014-12-10</td>\n",
       "      <td>1228.9000244140625</td>\n",
       "      <td>1234.5999755859375</td>\n",
       "      <td>1226.5999755859375</td>\n",
       "      <td>1231.199951171875</td>\n",
       "    </tr>\n",
       "    <tr>\n",
       "      <th>3</th>\n",
       "      <td>2014-12-11</td>\n",
       "      <td>1225.0999755859375</td>\n",
       "      <td>1231.199951171875</td>\n",
       "      <td>1216.199951171875</td>\n",
       "      <td>1226.5999755859375</td>\n",
       "    </tr>\n",
       "    <tr>\n",
       "      <th>4</th>\n",
       "      <td>2014-12-12</td>\n",
       "      <td>1222.0</td>\n",
       "      <td>1227.800048828125</td>\n",
       "      <td>1216.199951171875</td>\n",
       "      <td>1227.800048828125</td>\n",
       "    </tr>\n",
       "    <tr>\n",
       "      <th>5</th>\n",
       "      <td>2014-12-15</td>\n",
       "      <td>1207.199951171875</td>\n",
       "      <td>1223.0999755859375</td>\n",
       "      <td>1198.4000244140625</td>\n",
       "      <td>1223.0999755859375</td>\n",
       "    </tr>\n",
       "    <tr>\n",
       "      <th>...</th>\n",
       "      <td>...</td>\n",
       "      <td>...</td>\n",
       "      <td>...</td>\n",
       "      <td>...</td>\n",
       "      <td>...</td>\n",
       "    </tr>\n",
       "    <tr>\n",
       "      <th>2511</th>\n",
       "      <td>2024-12-03</td>\n",
       "      <td>2644.699951171875</td>\n",
       "      <td>2654.699951171875</td>\n",
       "      <td>2636.0</td>\n",
       "      <td>2639.0</td>\n",
       "    </tr>\n",
       "    <tr>\n",
       "      <th>2512</th>\n",
       "      <td>2024-12-04</td>\n",
       "      <td>2653.800048828125</td>\n",
       "      <td>2658.300048828125</td>\n",
       "      <td>2637.0</td>\n",
       "      <td>2639.199951171875</td>\n",
       "    </tr>\n",
       "    <tr>\n",
       "      <th>2513</th>\n",
       "      <td>2024-12-05</td>\n",
       "      <td>2626.60009765625</td>\n",
       "      <td>2655.0</td>\n",
       "      <td>2625.699951171875</td>\n",
       "      <td>2652.39990234375</td>\n",
       "    </tr>\n",
       "    <tr>\n",
       "      <th>2514</th>\n",
       "      <td>2024-12-06</td>\n",
       "      <td>2638.60009765625</td>\n",
       "      <td>2643.10009765625</td>\n",
       "      <td>2617.5</td>\n",
       "      <td>2620.199951171875</td>\n",
       "    </tr>\n",
       "    <tr>\n",
       "      <th>2515</th>\n",
       "      <td>2024-12-09</td>\n",
       "      <td>2671.89990234375</td>\n",
       "      <td>2650.800048828125</td>\n",
       "      <td>2630.800048828125</td>\n",
       "      <td>2632.10009765625</td>\n",
       "    </tr>\n",
       "  </tbody>\n",
       "</table>\n",
       "<p>2515 rows × 5 columns</p>\n",
       "</div>"
      ],
      "text/plain": [
       "            Date               Price                High                 Low  \\\n",
       "1     2014-12-09              1231.5              1238.0              1202.0   \n",
       "2     2014-12-10  1228.9000244140625  1234.5999755859375  1226.5999755859375   \n",
       "3     2014-12-11  1225.0999755859375   1231.199951171875   1216.199951171875   \n",
       "4     2014-12-12              1222.0   1227.800048828125   1216.199951171875   \n",
       "5     2014-12-15   1207.199951171875  1223.0999755859375  1198.4000244140625   \n",
       "...          ...                 ...                 ...                 ...   \n",
       "2511  2024-12-03   2644.699951171875   2654.699951171875              2636.0   \n",
       "2512  2024-12-04   2653.800048828125   2658.300048828125              2637.0   \n",
       "2513  2024-12-05    2626.60009765625              2655.0   2625.699951171875   \n",
       "2514  2024-12-06    2638.60009765625    2643.10009765625              2617.5   \n",
       "2515  2024-12-09    2671.89990234375   2650.800048828125   2630.800048828125   \n",
       "\n",
       "                    Open  \n",
       "1                 1202.0  \n",
       "2      1231.199951171875  \n",
       "3     1226.5999755859375  \n",
       "4      1227.800048828125  \n",
       "5     1223.0999755859375  \n",
       "...                  ...  \n",
       "2511              2639.0  \n",
       "2512   2639.199951171875  \n",
       "2513    2652.39990234375  \n",
       "2514   2620.199951171875  \n",
       "2515    2632.10009765625  \n",
       "\n",
       "[2515 rows x 5 columns]"
      ]
     },
     "execution_count": 13,
     "metadata": {},
     "output_type": "execute_result"
    }
   ],
   "source": [
    "df"
   ]
  },
  {
   "cell_type": "code",
   "execution_count": 16,
   "id": "0efa0935",
   "metadata": {
    "papermill": {
     "duration": 0.050709,
     "end_time": "2023-01-13T21:38:54.368054",
     "exception": false,
     "start_time": "2023-01-13T21:38:54.317345",
     "status": "completed"
    },
    "scrolled": true,
    "tags": []
   },
   "outputs": [
    {
     "name": "stdout",
     "output_type": "stream",
     "text": [
      "<class 'pandas.core.frame.DataFrame'>\n",
      "Index: 2515 entries, 1 to 2515\n",
      "Data columns (total 5 columns):\n",
      " #   Column  Non-Null Count  Dtype \n",
      "---  ------  --------------  ----- \n",
      " 0   Date    2515 non-null   object\n",
      " 1   Price   2515 non-null   object\n",
      " 2   High    2515 non-null   object\n",
      " 3   Low     2515 non-null   object\n",
      " 4   Open    2515 non-null   object\n",
      "dtypes: object(5)\n",
      "memory usage: 117.9+ KB\n"
     ]
    }
   ],
   "source": [
    "df.info()"
   ]
  },
  {
   "cell_type": "markdown",
   "id": "bab0143a",
   "metadata": {
    "papermill": {
     "duration": 0.019645,
     "end_time": "2023-01-13T21:38:54.615954",
     "exception": false,
     "start_time": "2023-01-13T21:38:54.596309",
     "status": "completed"
    },
    "tags": []
   },
   "source": [
    "### Data preparation"
   ]
  },
  {
   "cell_type": "code",
   "execution_count": 22,
   "id": "ded06bb4",
   "metadata": {
    "papermill": {
     "duration": 0.036376,
     "end_time": "2023-01-13T21:38:54.672051",
     "exception": false,
     "start_time": "2023-01-13T21:38:54.635675",
     "status": "completed"
    },
    "tags": []
   },
   "outputs": [],
   "source": [
    "df['Date'] = pd.to_datetime(df['Date'])\n",
    "df.sort_values(by='Date', ascending=True, inplace=True)\n",
    "df.reset_index(drop=True, inplace=True)"
   ]
  },
  {
   "cell_type": "code",
   "execution_count": 28,
   "id": "d3acda06",
   "metadata": {
    "papermill": {
     "duration": 0.033511,
     "end_time": "2023-01-13T21:38:54.990106",
     "exception": false,
     "start_time": "2023-01-13T21:38:54.956595",
     "status": "completed"
    },
    "tags": []
   },
   "outputs": [
    {
     "data": {
      "text/plain": [
       "0"
      ]
     },
     "execution_count": 28,
     "metadata": {},
     "output_type": "execute_result"
    }
   ],
   "source": [
    "# checking for duplicate\n",
    "df.duplicated().sum()"
   ]
  },
  {
   "cell_type": "code",
   "execution_count": 195,
   "id": "d5b15ecc",
   "metadata": {
    "papermill": {
     "duration": 0.032356,
     "end_time": "2023-01-13T21:38:55.081356",
     "exception": false,
     "start_time": "2023-01-13T21:38:55.049000",
     "status": "completed"
    },
    "tags": []
   },
   "outputs": [
    {
     "data": {
      "text/plain": [
       "0"
      ]
     },
     "execution_count": 195,
     "metadata": {},
     "output_type": "execute_result"
    }
   ],
   "source": [
    "# checking for missing values \n",
    "df.isnull().sum().sum()"
   ]
  },
  {
   "cell_type": "markdown",
   "id": "e7591252-104b-429a-8b7e-220f01b4aea0",
   "metadata": {},
   "source": [
    "**Gold price visualization**"
   ]
  },
  {
   "cell_type": "code",
   "execution_count": 32,
   "id": "cca9f0f5",
   "metadata": {
    "papermill": {
     "duration": 1.095617,
     "end_time": "2023-01-13T21:38:56.236445",
     "exception": false,
     "start_time": "2023-01-13T21:38:55.140828",
     "status": "completed"
    },
    "tags": []
   },
   "outputs": [
    {
     "data": {
      "image/png": "[encoded data removed]",
      "text/plain": [
       "<Figure size 1300x400 with 1 Axes>"
      ]
     },
     "metadata": {},
     "output_type": "display_data"
    }
   ],
   "source": [
    "plt.figure(figsize=(13,4))\n",
    "df['Price'].plot(color='black')\n",
    "plt.show()"
   ]
  },
  {
   "cell_type": "markdown",
   "id": "ffd1056d-e889-4df5-8884-c7ba8e8d615e",
   "metadata": {},
   "source": [
    "**setting the test size**"
   ]
  },
  {
   "cell_type": "code",
   "execution_count": 103,
   "id": "d4b9cd3d-b0e7-4dde-b870-e9732593a37e",
   "metadata": {},
   "outputs": [
    {
     "data": {
      "text/plain": [
       "60"
      ]
     },
     "execution_count": 103,
     "metadata": {},
     "output_type": "execute_result"
    }
   ],
   "source": [
    "# deifne the number of days for test size\n",
    "test_size = 60\n",
    "test_size"
   ]
  },
  {
   "cell_type": "markdown",
   "id": "2ecb4b4e",
   "metadata": {
    "papermill": {
     "duration": 0.021838,
     "end_time": "2023-01-13T21:38:56.383048",
     "exception": false,
     "start_time": "2023-01-13T21:38:56.361210",
     "status": "completed"
    },
    "tags": []
   },
   "source": [
    "**Gold Price Training and Test Sets Plot**"
   ]
  },
  {
   "cell_type": "code",
   "execution_count": 186,
   "id": "96341b6e",
   "metadata": {
    "papermill": {
     "duration": 0.462382,
     "end_time": "2023-01-13T21:38:56.867541",
     "exception": false,
     "start_time": "2023-01-13T21:38:56.405159",
     "status": "completed"
    },
    "tags": []
   },
   "outputs": [
    {
     "data": {
      "image/png": "[encoded data removed]",
      "text/plain": [
       "<Figure size 1200x600 with 1 Axes>"
      ]
     },
     "metadata": {},
     "output_type": "display_data"
    }
   ],
   "source": [
    "plt.figure(figsize=(12, 6))\n",
    "plt.plot(df['Date'][:-test_size], df['Price'][:-test_size], color='black')\n",
    "plt.plot(df['Date'][-test_size:], df['Price'][-test_size:], color='blue')\n",
    "plt.title('Gold Price Training and Test Sets', fontsize=15)\n",
    "plt.xlabel('Date', fontsize=12)\n",
    "plt.ylabel('Price', fontsize=12)\n",
    "plt.legend(['Training set', 'Test set'], loc='upper left')\n",
    "plt.show()"
   ]
  },
  {
   "cell_type": "code",
   "execution_count": 108,
   "id": "768746f9",
   "metadata": {
    "papermill": {
     "duration": 0.038016,
     "end_time": "2023-01-13T21:38:56.978401",
     "exception": false,
     "start_time": "2023-01-13T21:38:56.940385",
     "status": "completed"
    },
    "tags": []
   },
   "outputs": [
    {
     "data": {
      "text/html": [
       "<style>#sk-container-id-2 {\n",
       "  /* Definition of color scheme common for light and dark mode */\n",
       "  --sklearn-color-text: black;\n",
       "  --sklearn-color-line: gray;\n",
       "  /* Definition of color scheme for unfitted estimators */\n",
       "  --sklearn-color-unfitted-level-0: #fff5e6;\n",
       "  --sklearn-color-unfitted-level-1: #f6e4d2;\n",
       "  --sklearn-color-unfitted-level-2: #ffe0b3;\n",
       "  --sklearn-color-unfitted-level-3: chocolate;\n",
       "  /* Definition of color scheme for fitted estimators */\n",
       "  --sklearn-color-fitted-level-0: #f0f8ff;\n",
       "  --sklearn-color-fitted-level-1: #d4ebff;\n",
       "  --sklearn-color-fitted-level-2: #b3dbfd;\n",
       "  --sklearn-color-fitted-level-3: cornflowerblue;\n",
       "\n",
       "  /* Specific color for light theme */\n",
       "  --sklearn-color-text-on-default-background: var(--sg-text-color, var(--theme-code-foreground, var(--jp-content-font-color1, black)));\n",
       "  --sklearn-color-background: var(--sg-background-color, var(--theme-background, var(--jp-layout-color0, white)));\n",
       "  --sklearn-color-border-box: var(--sg-text-color, var(--theme-code-foreground, var(--jp-content-font-color1, black)));\n",
       "  --sklearn-color-icon: #696969;\n",
       "\n",
       "  @media (prefers-color-scheme: dark) {\n",
       "    /* Redefinition of color scheme for dark theme */\n",
       "    --sklearn-color-text-on-default-background: var(--sg-text-color, var(--theme-code-foreground, var(--jp-content-font-color1, white)));\n",
       "    --sklearn-color-background: var(--sg-background-color, var(--theme-background, var(--jp-layout-color0, #111)));\n",
       "    --sklearn-color-border-box: var(--sg-text-color, var(--theme-code-foreground, var(--jp-content-font-color1, white)));\n",
       "    --sklearn-color-icon: #878787;\n",
       "  }\n",
       "}\n",
       "\n",
       "#sk-container-id-2 {\n",
       "  color: var(--sklearn-color-text);\n",
       "}\n",
       "\n",
       "#sk-container-id-2 pre {\n",
       "  padding: 0;\n",
       "}\n",
       "\n",
       "#sk-container-id-2 input.sk-hidden--visually {\n",
       "  border: 0;\n",
       "  clip: rect(1px 1px 1px 1px);\n",
       "  clip: rect(1px, 1px, 1px, 1px);\n",
       "  height: 1px;\n",
       "  margin: -1px;\n",
       "  overflow: hidden;\n",
       "  padding: 0;\n",
       "  position: absolute;\n",
       "  width: 1px;\n",
       "}\n",
       "\n",
       "#sk-container-id-2 div.sk-dashed-wrapped {\n",
       "  border: 1px dashed var(--sklearn-color-line);\n",
       "  margin: 0 0.4em 0.5em 0.4em;\n",
       "  box-sizing: border-box;\n",
       "  padding-bottom: 0.4em;\n",
       "  background-color: var(--sklearn-color-background);\n",
       "}\n",
       "\n",
       "#sk-container-id-2 div.sk-container {\n",
       "  /* jupyter's `normalize.less` sets `[hidden] { display: none; }`\n",
       "     but bootstrap.min.css set `[hidden] { display: none !important; }`\n",
       "     so we also need the `!important` here to be able to override the\n",
       "     default hidden behavior on the sphinx rendered scikit-learn.org.\n",
       "     See: https://github.com/scikit-learn/scikit-learn/issues/21755 */\n",
       "  display: inline-block !important;\n",
       "  position: relative;\n",
       "}\n",
       "\n",
       "#sk-container-id-2 div.sk-text-repr-fallback {\n",
       "  display: none;\n",
       "}\n",
       "\n",
       "div.sk-parallel-item,\n",
       "div.sk-serial,\n",
       "div.sk-item {\n",
       "  /* draw centered vertical line to link estimators */\n",
       "  background-image: linear-gradient(var(--sklearn-color-text-on-default-background), var(--sklearn-color-text-on-default-background));\n",
       "  background-size: 2px 100%;\n",
       "  background-repeat: no-repeat;\n",
       "  background-position: center center;\n",
       "}\n",
       "\n",
       "/* Parallel-specific style estimator block */\n",
       "\n",
       "#sk-container-id-2 div.sk-parallel-item::after {\n",
       "  content: \"\";\n",
       "  width: 100%;\n",
       "  border-bottom: 2px solid var(--sklearn-color-text-on-default-background);\n",
       "  flex-grow: 1;\n",
       "}\n",
       "\n",
       "#sk-container-id-2 div.sk-parallel {\n",
       "  display: flex;\n",
       "  align-items: stretch;\n",
       "  justify-content: center;\n",
       "  background-color: var(--sklearn-color-background);\n",
       "  position: relative;\n",
       "}\n",
       "\n",
       "#sk-container-id-2 div.sk-parallel-item {\n",
       "  display: flex;\n",
       "  flex-direction: column;\n",
       "}\n",
       "\n",
       "#sk-container-id-2 div.sk-parallel-item:first-child::after {\n",
       "  align-self: flex-end;\n",
       "  width: 50%;\n",
       "}\n",
       "\n",
       "#sk-container-id-2 div.sk-parallel-item:last-child::after {\n",
       "  align-self: flex-start;\n",
       "  width: 50%;\n",
       "}\n",
       "\n",
       "#sk-container-id-2 div.sk-parallel-item:only-child::after {\n",
       "  width: 0;\n",
       "}\n",
       "\n",
       "/* Serial-specific style estimator block */\n",
       "\n",
       "#sk-container-id-2 div.sk-serial {\n",
       "  display: flex;\n",
       "  flex-direction: column;\n",
       "  align-items: center;\n",
       "  background-color: var(--sklearn-color-background);\n",
       "  padding-right: 1em;\n",
       "  padding-left: 1em;\n",
       "}\n",
       "\n",
       "\n",
       "/* Toggleable style: style used for estimator/Pipeline/ColumnTransformer box that is\n",
       "clickable and can be expanded/collapsed.\n",
       "- Pipeline and ColumnTransformer use this feature and define the default style\n",
       "- Estimators will overwrite some part of the style using the `sk-estimator` class\n",
       "*/\n",
       "\n",
       "/* Pipeline and ColumnTransformer style (default) */\n",
       "\n",
       "#sk-container-id-2 div.sk-toggleable {\n",
       "  /* Default theme specific background. It is overwritten whether we have a\n",
       "  specific estimator or a Pipeline/ColumnTransformer */\n",
       "  background-color: var(--sklearn-color-background);\n",
       "}\n",
       "\n",
       "/* Toggleable label */\n",
       "#sk-container-id-2 label.sk-toggleable__label {\n",
       "  cursor: pointer;\n",
       "  display: block;\n",
       "  width: 100%;\n",
       "  margin-bottom: 0;\n",
       "  padding: 0.5em;\n",
       "  box-sizing: border-box;\n",
       "  text-align: center;\n",
       "}\n",
       "\n",
       "#sk-container-id-2 label.sk-toggleable__label-arrow:before {\n",
       "  /* Arrow on the left of the label */\n",
       "  content: \"▸\";\n",
       "  float: left;\n",
       "  margin-right: 0.25em;\n",
       "  color: var(--sklearn-color-icon);\n",
       "}\n",
       "\n",
       "#sk-container-id-2 label.sk-toggleable__label-arrow:hover:before {\n",
       "  color: var(--sklearn-color-text);\n",
       "}\n",
       "\n",
       "/* Toggleable content - dropdown */\n",
       "\n",
       "#sk-container-id-2 div.sk-toggleable__content {\n",
       "  max-height: 0;\n",
       "  max-width: 0;\n",
       "  overflow: hidden;\n",
       "  text-align: left;\n",
       "  /* unfitted */\n",
       "  background-color: var(--sklearn-color-unfitted-level-0);\n",
       "}\n",
       "\n",
       "#sk-container-id-2 div.sk-toggleable__content.fitted {\n",
       "  /* fitted */\n",
       "  background-color: var(--sklearn-color-fitted-level-0);\n",
       "}\n",
       "\n",
       "#sk-container-id-2 div.sk-toggleable__content pre {\n",
       "  margin: 0.2em;\n",
       "  border-radius: 0.25em;\n",
       "  color: var(--sklearn-color-text);\n",
       "  /* unfitted */\n",
       "  background-color: var(--sklearn-color-unfitted-level-0);\n",
       "}\n",
       "\n",
       "#sk-container-id-2 div.sk-toggleable__content.fitted pre {\n",
       "  /* unfitted */\n",
       "  background-color: var(--sklearn-color-fitted-level-0);\n",
       "}\n",
       "\n",
       "#sk-container-id-2 input.sk-toggleable__control:checked~div.sk-toggleable__content {\n",
       "  /* Expand drop-down */\n",
       "  max-height: 200px;\n",
       "  max-width: 100%;\n",
       "  overflow: auto;\n",
       "}\n",
       "\n",
       "#sk-container-id-2 input.sk-toggleable__control:checked~label.sk-toggleable__label-arrow:before {\n",
       "  content: \"▾\";\n",
       "}\n",
       "\n",
       "/* Pipeline/ColumnTransformer-specific style */\n",
       "\n",
       "#sk-container-id-2 div.sk-label input.sk-toggleable__control:checked~label.sk-toggleable__label {\n",
       "  color: var(--sklearn-color-text);\n",
       "  background-color: var(--sklearn-color-unfitted-level-2);\n",
       "}\n",
       "\n",
       "#sk-container-id-2 div.sk-label.fitted input.sk-toggleable__control:checked~label.sk-toggleable__label {\n",
       "  background-color: var(--sklearn-color-fitted-level-2);\n",
       "}\n",
       "\n",
       "/* Estimator-specific style */\n",
       "\n",
       "/* Colorize estimator box */\n",
       "#sk-container-id-2 div.sk-estimator input.sk-toggleable__control:checked~label.sk-toggleable__label {\n",
       "  /* unfitted */\n",
       "  background-color: var(--sklearn-color-unfitted-level-2);\n",
       "}\n",
       "\n",
       "#sk-container-id-2 div.sk-estimator.fitted input.sk-toggleable__control:checked~label.sk-toggleable__label {\n",
       "  /* fitted */\n",
       "  background-color: var(--sklearn-color-fitted-level-2);\n",
       "}\n",
       "\n",
       "#sk-container-id-2 div.sk-label label.sk-toggleable__label,\n",
       "#sk-container-id-2 div.sk-label label {\n",
       "  /* The background is the default theme color */\n",
       "  color: var(--sklearn-color-text-on-default-background);\n",
       "}\n",
       "\n",
       "/* On hover, darken the color of the background */\n",
       "#sk-container-id-2 div.sk-label:hover label.sk-toggleable__label {\n",
       "  color: var(--sklearn-color-text);\n",
       "  background-color: var(--sklearn-color-unfitted-level-2);\n",
       "}\n",
       "\n",
       "/* Label box, darken color on hover, fitted */\n",
       "#sk-container-id-2 div.sk-label.fitted:hover label.sk-toggleable__label.fitted {\n",
       "  color: var(--sklearn-color-text);\n",
       "  background-color: var(--sklearn-color-fitted-level-2);\n",
       "}\n",
       "\n",
       "/* Estimator label */\n",
       "\n",
       "#sk-container-id-2 div.sk-label label {\n",
       "  font-family: monospace;\n",
       "  font-weight: bold;\n",
       "  display: inline-block;\n",
       "  line-height: 1.2em;\n",
       "}\n",
       "\n",
       "#sk-container-id-2 div.sk-label-container {\n",
       "  text-align: center;\n",
       "}\n",
       "\n",
       "/* Estimator-specific */\n",
       "#sk-container-id-2 div.sk-estimator {\n",
       "  font-family: monospace;\n",
       "  border: 1px dotted var(--sklearn-color-border-box);\n",
       "  border-radius: 0.25em;\n",
       "  box-sizing: border-box;\n",
       "  margin-bottom: 0.5em;\n",
       "  /* unfitted */\n",
       "  background-color: var(--sklearn-color-unfitted-level-0);\n",
       "}\n",
       "\n",
       "#sk-container-id-2 div.sk-estimator.fitted {\n",
       "  /* fitted */\n",
       "  background-color: var(--sklearn-color-fitted-level-0);\n",
       "}\n",
       "\n",
       "/* on hover */\n",
       "#sk-container-id-2 div.sk-estimator:hover {\n",
       "  /* unfitted */\n",
       "  background-color: var(--sklearn-color-unfitted-level-2);\n",
       "}\n",
       "\n",
       "#sk-container-id-2 div.sk-estimator.fitted:hover {\n",
       "  /* fitted */\n",
       "  background-color: var(--sklearn-color-fitted-level-2);\n",
       "}\n",
       "\n",
       "/* Specification for estimator info (e.g. \"i\" and \"?\") */\n",
       "\n",
       "/* Common style for \"i\" and \"?\" */\n",
       "\n",
       ".sk-estimator-doc-link,\n",
       "a:link.sk-estimator-doc-link,\n",
       "a:visited.sk-estimator-doc-link {\n",
       "  float: right;\n",
       "  font-size: smaller;\n",
       "  line-height: 1em;\n",
       "  font-family: monospace;\n",
       "  background-color: var(--sklearn-color-background);\n",
       "  border-radius: 1em;\n",
       "  height: 1em;\n",
       "  width: 1em;\n",
       "  text-decoration: none !important;\n",
       "  margin-left: 1ex;\n",
       "  /* unfitted */\n",
       "  border: var(--sklearn-color-unfitted-level-1) 1pt solid;\n",
       "  color: var(--sklearn-color-unfitted-level-1);\n",
       "}\n",
       "\n",
       ".sk-estimator-doc-link.fitted,\n",
       "a:link.sk-estimator-doc-link.fitted,\n",
       "a:visited.sk-estimator-doc-link.fitted {\n",
       "  /* fitted */\n",
       "  border: var(--sklearn-color-fitted-level-1) 1pt solid;\n",
       "  color: var(--sklearn-color-fitted-level-1);\n",
       "}\n",
       "\n",
       "/* On hover */\n",
       "div.sk-estimator:hover .sk-estimator-doc-link:hover,\n",
       ".sk-estimator-doc-link:hover,\n",
       "div.sk-label-container:hover .sk-estimator-doc-link:hover,\n",
       ".sk-estimator-doc-link:hover {\n",
       "  /* unfitted */\n",
       "  background-color: var(--sklearn-color-unfitted-level-3);\n",
       "  color: var(--sklearn-color-background);\n",
       "  text-decoration: none;\n",
       "}\n",
       "\n",
       "div.sk-estimator.fitted:hover .sk-estimator-doc-link.fitted:hover,\n",
       ".sk-estimator-doc-link.fitted:hover,\n",
       "div.sk-label-container:hover .sk-estimator-doc-link.fitted:hover,\n",
       ".sk-estimator-doc-link.fitted:hover {\n",
       "  /* fitted */\n",
       "  background-color: var(--sklearn-color-fitted-level-3);\n",
       "  color: var(--sklearn-color-background);\n",
       "  text-decoration: none;\n",
       "}\n",
       "\n",
       "/* Span, style for the box shown on hovering the info icon */\n",
       ".sk-estimator-doc-link span {\n",
       "  display: none;\n",
       "  z-index: 9999;\n",
       "  position: relative;\n",
       "  font-weight: normal;\n",
       "  right: .2ex;\n",
       "  padding: .5ex;\n",
       "  margin: .5ex;\n",
       "  width: min-content;\n",
       "  min-width: 20ex;\n",
       "  max-width: 50ex;\n",
       "  color: var(--sklearn-color-text);\n",
       "  box-shadow: 2pt 2pt 4pt #999;\n",
       "  /* unfitted */\n",
       "  background: var(--sklearn-color-unfitted-level-0);\n",
       "  border: .5pt solid var(--sklearn-color-unfitted-level-3);\n",
       "}\n",
       "\n",
       ".sk-estimator-doc-link.fitted span {\n",
       "  /* fitted */\n",
       "  background: var(--sklearn-color-fitted-level-0);\n",
       "  border: var(--sklearn-color-fitted-level-3);\n",
       "}\n",
       "\n",
       ".sk-estimator-doc-link:hover span {\n",
       "  display: block;\n",
       "}\n",
       "\n",
       "/* \"?\"-specific style due to the `<a>` HTML tag */\n",
       "\n",
       "#sk-container-id-2 a.estimator_doc_link {\n",
       "  float: right;\n",
       "  font-size: 1rem;\n",
       "  line-height: 1em;\n",
       "  font-family: monospace;\n",
       "  background-color: var(--sklearn-color-background);\n",
       "  border-radius: 1rem;\n",
       "  height: 1rem;\n",
       "  width: 1rem;\n",
       "  text-decoration: none;\n",
       "  /* unfitted */\n",
       "  color: var(--sklearn-color-unfitted-level-1);\n",
       "  border: var(--sklearn-color-unfitted-level-1) 1pt solid;\n",
       "}\n",
       "\n",
       "#sk-container-id-2 a.estimator_doc_link.fitted {\n",
       "  /* fitted */\n",
       "  border: var(--sklearn-color-fitted-level-1) 1pt solid;\n",
       "  color: var(--sklearn-color-fitted-level-1);\n",
       "}\n",
       "\n",
       "/* On hover */\n",
       "#sk-container-id-2 a.estimator_doc_link:hover {\n",
       "  /* unfitted */\n",
       "  background-color: var(--sklearn-color-unfitted-level-3);\n",
       "  color: var(--sklearn-color-background);\n",
       "  text-decoration: none;\n",
       "}\n",
       "\n",
       "#sk-container-id-2 a.estimator_doc_link.fitted:hover {\n",
       "  /* fitted */\n",
       "  background-color: var(--sklearn-color-fitted-level-3);\n",
       "}\n",
       "</style><div id=\"sk-container-id-2\" class=\"sk-top-container\"><div class=\"sk-text-repr-fallback\"><pre>MinMaxScaler()</pre><b>In a Jupyter environment, please rerun this cell to show the HTML representation or trust the notebook. <br />On GitHub, the HTML representation is unable to render, please try loading this page with nbviewer.org.</b></div><div class=\"sk-container\" hidden><div class=\"sk-item\"><div class=\"sk-estimator fitted sk-toggleable\"><input class=\"sk-toggleable__control sk-hidden--visually\" id=\"sk-estimator-id-2\" type=\"checkbox\" checked><label for=\"sk-estimator-id-2\" class=\"sk-toggleable__label fitted sk-toggleable__label-arrow fitted\">&nbsp;&nbsp;MinMaxScaler<a class=\"sk-estimator-doc-link fitted\" rel=\"noreferrer\" target=\"_blank\" href=\"https://scikit-learn.org/1.4/modules/generated/sklearn.preprocessing.MinMaxScaler.html\">?<span>Documentation for MinMaxScaler</span></a><span class=\"sk-estimator-doc-link fitted\">i<span>Fitted</span></span></label><div class=\"sk-toggleable__content fitted\"><pre>MinMaxScaler()</pre></div> </div></div></div></div>"
      ],
      "text/plain": [
       "MinMaxScaler()"
      ]
     },
     "execution_count": 108,
     "metadata": {},
     "output_type": "execute_result"
    }
   ],
   "source": [
    "# scaling the data\n",
    "scaler = MinMaxScaler()\n",
    "scaler.fit(df['Price'].values.reshape(-1,1))"
   ]
  },
  {
   "cell_type": "code",
   "execution_count": 110,
   "id": "653ae404",
   "metadata": {
    "papermill": {
     "duration": 0.032406,
     "end_time": "2023-01-13T21:38:57.083389",
     "exception": false,
     "start_time": "2023-01-13T21:38:57.050983",
     "status": "completed"
    },
    "tags": []
   },
   "outputs": [],
   "source": [
    "# Setting window size \n",
    "window_size = 60 #(60 days)"
   ]
  },
  {
   "cell_type": "markdown",
   "id": "1bbd4251",
   "metadata": {
    "papermill": {
     "duration": 0.023875,
     "end_time": "2023-01-13T21:38:57.132072",
     "exception": false,
     "start_time": "2023-01-13T21:38:57.108197",
     "status": "completed"
    },
    "tags": []
   },
   "source": [
    "**Training Set:**"
   ]
  },
  {
   "cell_type": "code",
   "execution_count": 113,
   "id": "f721d12b",
   "metadata": {
    "papermill": {
     "duration": 0.033827,
     "end_time": "2023-01-13T21:38:57.190072",
     "exception": false,
     "start_time": "2023-01-13T21:38:57.156245",
     "status": "completed"
    },
    "tags": []
   },
   "outputs": [],
   "source": [
    "train_data = df['Price'][:-test_size]\n",
    "train_data = scaler.transform(train_data.values.reshape(-1,1))"
   ]
  },
  {
   "cell_type": "code",
   "execution_count": 115,
   "id": "e86c8e1f",
   "metadata": {
    "papermill": {
     "duration": 0.036808,
     "end_time": "2023-01-13T21:38:57.251275",
     "exception": false,
     "start_time": "2023-01-13T21:38:57.214467",
     "status": "completed"
    },
    "tags": []
   },
   "outputs": [],
   "source": [
    "X_train = []\n",
    "y_train = []\n",
    "\n",
    "for i in range(window_size, len(train_data)):\n",
    "    X_train.append(train_data[i-window_size:i, 0])\n",
    "    y_train.append(train_data[i, 0])"
   ]
  },
  {
   "cell_type": "markdown",
   "id": "0abae0a6",
   "metadata": {
    "papermill": {
     "duration": 0.023875,
     "end_time": "2023-01-13T21:38:57.299207",
     "exception": false,
     "start_time": "2023-01-13T21:38:57.275332",
     "status": "completed"
    },
    "tags": []
   },
   "source": [
    "**Testing Set:**"
   ]
  },
  {
   "cell_type": "code",
   "execution_count": 118,
   "id": "300ca9dc",
   "metadata": {
    "papermill": {
     "duration": 0.033896,
     "end_time": "2023-01-13T21:38:57.357378",
     "exception": false,
     "start_time": "2023-01-13T21:38:57.323482",
     "status": "completed"
    },
    "tags": []
   },
   "outputs": [],
   "source": [
    "test_data = df['Price'][-test_size-window_size:]\n",
    "test_data = scaler.transform(test_data.values.reshape(-1,1))"
   ]
  },
  {
   "cell_type": "code",
   "execution_count": 120,
   "id": "5524e7fd",
   "metadata": {
    "papermill": {
     "duration": 0.034307,
     "end_time": "2023-01-13T21:38:57.415803",
     "exception": false,
     "start_time": "2023-01-13T21:38:57.381496",
     "status": "completed"
    },
    "tags": []
   },
   "outputs": [],
   "source": [
    "X_test = []\n",
    "y_test = []\n",
    "\n",
    "for i in range(window_size, len(test_data)):\n",
    "    X_test.append(test_data[i-window_size:i, 0])\n",
    "    y_test.append(test_data[i, 0])"
   ]
  },
  {
   "cell_type": "markdown",
   "id": "8bdec29d-e532-40fe-bcac-9871c2f496f3",
   "metadata": {},
   "source": [
    "**Convert the data into acceptable format**"
   ]
  },
  {
   "cell_type": "code",
   "execution_count": 122,
   "id": "25a0e33c",
   "metadata": {
    "papermill": {
     "duration": 0.035792,
     "end_time": "2023-01-13T21:38:57.525210",
     "exception": false,
     "start_time": "2023-01-13T21:38:57.489418",
     "status": "completed"
    },
    "tags": []
   },
   "outputs": [],
   "source": [
    "# convert into data format that accepting by the model\n",
    "X_train = np.array(X_train)\n",
    "X_test  = np.array(X_test)\n",
    "y_train = np.array(y_train)\n",
    "y_test  = np.array(y_test)"
   ]
  },
  {
   "cell_type": "code",
   "execution_count": 124,
   "id": "9eff0e06",
   "metadata": {
    "papermill": {
     "duration": 0.033944,
     "end_time": "2023-01-13T21:38:57.583467",
     "exception": false,
     "start_time": "2023-01-13T21:38:57.549523",
     "status": "completed"
    },
    "tags": []
   },
   "outputs": [],
   "source": [
    "X_train = np.reshape(X_train, (X_train.shape[0], X_train.shape[1], 1))\n",
    "X_test  = np.reshape(X_test, (X_test.shape[0], X_test.shape[1], 1))\n",
    "y_train = np.reshape(y_train, (-1,1))\n",
    "y_test  = np.reshape(y_test, (-1,1))"
   ]
  },
  {
   "cell_type": "code",
   "execution_count": 126,
   "id": "ca1e943a",
   "metadata": {
    "papermill": {
     "duration": 0.034679,
     "end_time": "2023-01-13T21:38:57.644506",
     "exception": false,
     "start_time": "2023-01-13T21:38:57.609827",
     "status": "completed"
    },
    "tags": []
   },
   "outputs": [
    {
     "name": "stdout",
     "output_type": "stream",
     "text": [
      "X_train Shape:  (2395, 60, 1)\n",
      "y_train Shape:  (2395, 1)\n",
      "X_test Shape:   (60, 60, 1)\n",
      "y_test Shape:   (60, 1)\n"
     ]
    }
   ],
   "source": [
    "print('X_train Shape: ', X_train.shape)\n",
    "print('y_train Shape: ', y_train.shape)\n",
    "print('X_test Shape:  ', X_test.shape)\n",
    "print('y_test Shape:  ', y_test.shape)"
   ]
  },
  {
   "cell_type": "markdown",
   "id": "e054ecfc-54e7-48cf-8f34-ede2165ebcaf",
   "metadata": {},
   "source": [
    "**Creating Model**"
   ]
  },
  {
   "cell_type": "code",
   "execution_count": 129,
   "id": "1ea25243",
   "metadata": {
    "papermill": {
     "duration": 0.036759,
     "end_time": "2023-01-13T21:38:57.802926",
     "exception": false,
     "start_time": "2023-01-13T21:38:57.766167",
     "status": "completed"
    },
    "tags": []
   },
   "outputs": [],
   "source": [
    "def define_model():\n",
    "    input1 = Input(shape=(window_size,1))\n",
    "    x = LSTM(units = 64, return_sequences=True)(input1)  \n",
    "    x = Dropout(0.2)(x)\n",
    "    x = LSTM(units = 64, return_sequences=True)(x)\n",
    "    x = Dropout(0.2)(x)\n",
    "    x = LSTM(units = 64)(x)\n",
    "    x = Dropout(0.2)(x)\n",
    "    x = Dense(32, activation='softmax')(x)\n",
    "    dnn_output = Dense(1)(x)\n",
    "\n",
    "    model = Model(inputs=input1, outputs=[dnn_output])\n",
    "    model.compile(loss='mean_squared_error', optimizer='Nadam')\n",
    "    model.summary()\n",
    "    \n",
    "    return model\n"
   ]
  },
  {
   "cell_type": "markdown",
   "id": "59671910-0c84-4f16-87c0-66c5cd8e6482",
   "metadata": {},
   "source": [
    "**Model training**"
   ]
  },
  {
   "cell_type": "code",
   "execution_count": null,
   "id": "89d748c8-a832-4644-9a5f-bb9d6c82ba7d",
   "metadata": {
    "papermill": {
     "duration": 0.023992,
     "end_time": "2023-01-13T21:38:57.852038",
     "exception": false,
     "start_time": "2023-01-13T21:38:57.828046",
     "status": "completed"
    },
    "tags": []
   },
   "outputs": [],
   "source": [
    "import time \n",
    "t0 = time.time()\n",
    "\n",
    "model = define_model()\n",
    "history = model.fit(X_train, y_train, epochs=5, batch_size=32, validation_split=0.1, verbose=0)\n",
    "\n",
    "print(f'How long is this take to run: {time.time() - t0}')"
   ]
  },
  {
   "cell_type": "markdown",
   "id": "ec09a244-f724-4fd9-baeb-5cb2a884ba3e",
   "metadata": {},
   "source": [
    "**Evaluate the model**"
   ]
  },
  {
   "cell_type": "code",
   "execution_count": 134,
   "id": "95b104fd",
   "metadata": {
    "papermill": {
     "duration": 2.876801,
     "end_time": "2023-01-13T22:03:30.813914",
     "exception": false,
     "start_time": "2023-01-13T22:03:27.937113",
     "status": "completed"
    },
    "tags": []
   },
   "outputs": [
    {
     "name": "stdout",
     "output_type": "stream",
     "text": [
      "\u001b[1m2/2\u001b[0m \u001b[32m━━━━━━━━━━━━━━━━━━━━\u001b[0m\u001b[37m\u001b[0m \u001b[1m0s\u001b[0m 8ms/step - loss: 0.1988 \n",
      "\u001b[1m2/2\u001b[0m \u001b[32m━━━━━━━━━━━━━━━━━━━━\u001b[0m\u001b[37m\u001b[0m \u001b[1m0s\u001b[0m 145ms/step\n"
     ]
    }
   ],
   "source": [
    "result = model.evaluate(X_test, y_test)\n",
    "y_pred = model.predict(X_test) "
   ]
  },
  {
   "cell_type": "code",
   "execution_count": 157,
   "id": "7bef4e88",
   "metadata": {
    "papermill": {
     "duration": 0.697714,
     "end_time": "2023-01-13T22:03:32.146690",
     "exception": false,
     "start_time": "2023-01-13T22:03:31.448976",
     "status": "completed"
    },
    "tags": []
   },
   "outputs": [],
   "source": [
    "MSE = mean_squared_error(y_test, y_pred)"
   ]
  },
  {
   "cell_type": "code",
   "execution_count": 159,
   "id": "3721530a",
   "metadata": {
    "papermill": {
     "duration": 0.634832,
     "end_time": "2023-01-13T22:03:33.407409",
     "exception": false,
     "start_time": "2023-01-13T22:03:32.772577",
     "status": "completed"
    },
    "tags": []
   },
   "outputs": [
    {
     "name": "stdout",
     "output_type": "stream",
     "text": [
      "Test Loss: 0.1975564807653427\n",
      "Test MSE: 0.19755648881936633\n"
     ]
    }
   ],
   "source": [
    "print(\"Test Loss:\", result)\n",
    "print(\"Test MSE:\", MSE)"
   ]
  },
  {
   "cell_type": "code",
   "execution_count": 161,
   "id": "40cc3cfa",
   "metadata": {
    "papermill": {
     "duration": 0.700914,
     "end_time": "2023-01-13T22:03:37.417374",
     "exception": false,
     "start_time": "2023-01-13T22:03:36.716460",
     "status": "completed"
    },
    "tags": []
   },
   "outputs": [],
   "source": [
    "# Inverse it to the normal scale \n",
    "y_test_true = scaler.inverse_transform(y_test)\n",
    "y_test_pred = scaler.inverse_transform(y_pred)"
   ]
  },
  {
   "cell_type": "code",
   "execution_count": 163,
   "id": "51dae83b-20a9-492a-bbd3-1e8e299a93aa",
   "metadata": {},
   "outputs": [
    {
     "name": "stdout",
     "output_type": "stream",
     "text": [
      "Test Loss: 0.1975564807653427\n",
      "Test MSE: 596541.8048510768\n"
     ]
    }
   ],
   "source": [
    "MSE = mean_squared_error(y_test_true, y_test_pred)\n",
    "print(\"Test Loss:\", result)\n",
    "print(\"Test MSE:\", MSE)"
   ]
  },
  {
   "cell_type": "markdown",
   "id": "03d33700",
   "metadata": {
    "papermill": {
     "duration": 0.689811,
     "end_time": "2023-01-13T22:03:38.741150",
     "exception": false,
     "start_time": "2023-01-13T22:03:38.051339",
     "status": "completed"
    },
    "tags": []
   },
   "source": [
    "**Investigating the prices predicted with actual**"
   ]
  },
  {
   "cell_type": "code",
   "execution_count": 188,
   "id": "852df380",
   "metadata": {
    "papermill": {
     "duration": 1.024333,
     "end_time": "2023-01-13T22:03:40.405378",
     "exception": false,
     "start_time": "2023-01-13T22:03:39.381045",
     "status": "completed"
    },
    "tags": []
   },
   "outputs": [
    {
     "data": {
      "image/png": "[encoded data removed]",
      "text/plain": [
       "<Figure size 2250x900 with 1 Axes>"
      ]
     },
     "metadata": {},
     "output_type": "display_data"
    }
   ],
   "source": [
    "plt.figure(figsize=(15, 6), dpi=150)\n",
    "plt.plot(df['Date'].iloc[:-test_size], scaler.inverse_transform(train_data), color='black')\n",
    "plt.plot(df['Date'].iloc[-test_size:], y_test_true, color='blue', lw=2)\n",
    "plt.plot(df['Date'].iloc[-test_size:], y_test_pred, color='red', lw=2)\n",
    "plt.title('Model Performance on Gold Price Prediction', fontsize=15)\n",
    "plt.xlabel('Date', fontsize=12)\n",
    "plt.ylabel('Price', fontsize=12)\n",
    "plt.legend(['Training Data', 'Actual Test Data', 'Predicted Test Data'], loc='upper left')\n",
    "plt.show()"
   ]
  }
 ],
 "metadata": {
  "kernelspec": {
   "display_name": "Python 3 (ipykernel)",
   "language": "python",
   "name": "python3"
  },
  "language_info": {
   "codemirror_mode": {
    "name": "ipython",
    "version": 3
   },
   "file_extension": ".py",
   "mimetype": "text/x-python",
   "name": "python",
   "nbconvert_exporter": "python",
   "pygments_lexer": "ipython3",
   "version": "3.12.4"
  },
  "papermill": {
   "default_parameters": {},
   "duration": 1508.433223,
   "end_time": "2023-01-13T22:03:46.377564",
   "environment_variables": {},
   "exception": null,
   "input_path": "__notebook__.ipynb",
   "output_path": "__notebook__.ipynb",
   "parameters": {},
   "start_time": "2023-01-13T21:38:37.944341",
   "version": "2.3.4"
  }
 },
 "nbformat": 4,
 "nbformat_minor": 5
}
